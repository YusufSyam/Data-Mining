{
 "cells": [
  {
   "cell_type": "markdown",
   "id": "f05e62e1",
   "metadata": {},
   "source": [
    "# Tugas 1 Data Mining\n",
    "<br>\n",
    "Muh. Yusuf Syam<br>\n",
    "H071191044"
   ]
  },
  {
   "cell_type": "markdown",
   "id": "02d44442",
   "metadata": {},
   "source": [
    "## 1. Cari dan unduh dataset dari repository Kaggle dan UCI machine learning. (harus berbeda setiap individu mahasiswa)"
   ]
  },
  {
   "cell_type": "code",
   "execution_count": 1,
   "id": "5b5a9b87",
   "metadata": {},
   "outputs": [],
   "source": [
    "# Import library\n",
    "\n",
    "import pandas as pd\n",
    "import numpy as np\n",
    "from mlxtend.preprocessing import TransactionEncoder"
   ]
  },
  {
   "cell_type": "code",
   "execution_count": 2,
   "id": "d2331448",
   "metadata": {},
   "outputs": [
    {
     "data": {
      "text/html": [
       "<div>\n",
       "<style scoped>\n",
       "    .dataframe tbody tr th:only-of-type {\n",
       "        vertical-align: middle;\n",
       "    }\n",
       "\n",
       "    .dataframe tbody tr th {\n",
       "        vertical-align: top;\n",
       "    }\n",
       "\n",
       "    .dataframe thead th {\n",
       "        text-align: right;\n",
       "    }\n",
       "</style>\n",
       "<table border=\"1\" class=\"dataframe\">\n",
       "  <thead>\n",
       "    <tr style=\"text-align: right;\">\n",
       "      <th></th>\n",
       "      <th>Name</th>\n",
       "      <th>Year of release</th>\n",
       "      <th>Aired Date</th>\n",
       "      <th>Aired On</th>\n",
       "      <th>Number of Episode</th>\n",
       "      <th>Network</th>\n",
       "      <th>Duration</th>\n",
       "      <th>Content Rating</th>\n",
       "      <th>Synopsis</th>\n",
       "      <th>Cast</th>\n",
       "      <th>Genre</th>\n",
       "      <th>Tags</th>\n",
       "      <th>Rank</th>\n",
       "      <th>Rating</th>\n",
       "    </tr>\n",
       "  </thead>\n",
       "  <tbody>\n",
       "    <tr>\n",
       "      <th>0</th>\n",
       "      <td>Move to Heaven</td>\n",
       "      <td>2021</td>\n",
       "      <td>May 14, 2021</td>\n",
       "      <td>Friday</td>\n",
       "      <td>10</td>\n",
       "      <td>Netflix,  Netflix,  Netflix,  Netflix</td>\n",
       "      <td>52 min.</td>\n",
       "      <td>18+ Restricted (violence &amp; profanity)</td>\n",
       "      <td>Geu Roo is a young autistic man. He works for ...</td>\n",
       "      <td>Lee Je Hoon, Tang Jun Sang, Hong Seung Hee, Ju...</td>\n",
       "      <td>Life,  Drama,  Family</td>\n",
       "      <td>Autism, Father-Son Relationship, Uncle-Nephew ...</td>\n",
       "      <td>#1</td>\n",
       "      <td>9.2</td>\n",
       "    </tr>\n",
       "    <tr>\n",
       "      <th>1</th>\n",
       "      <td>Hospital Playlist</td>\n",
       "      <td>2020</td>\n",
       "      <td>Mar 12, 2020 - May 28, 2020</td>\n",
       "      <td>Thursday</td>\n",
       "      <td>12</td>\n",
       "      <td>tvN,  Netflix,  Netflix,  Netflix,  Netflix</td>\n",
       "      <td>1 hr. 30 min.</td>\n",
       "      <td>15+ - Teens 15 or older</td>\n",
       "      <td>The stories of people going through their days...</td>\n",
       "      <td>Jo Jung Suk, Yoo Yeon Seok, Jung Kyung Ho, Kim...</td>\n",
       "      <td>Friendship,  Romance,  Life,  Medical</td>\n",
       "      <td>Strong Friendship, Doctor, Multiple Mains, Slo...</td>\n",
       "      <td>#2</td>\n",
       "      <td>9.1</td>\n",
       "    </tr>\n",
       "    <tr>\n",
       "      <th>2</th>\n",
       "      <td>Flower of Evil</td>\n",
       "      <td>2020</td>\n",
       "      <td>Jul 29, 2020 - Sep 23, 2020</td>\n",
       "      <td>Wednesday, Thursday</td>\n",
       "      <td>16</td>\n",
       "      <td>tvN</td>\n",
       "      <td>1 hr. 10 min.</td>\n",
       "      <td>15+ - Teens 15 or older</td>\n",
       "      <td>Although Baek Hee Sung is hiding a dark secret...</td>\n",
       "      <td>Lee Joon Gi, Moon Chae Won, Jang Hee Jin, Seo ...</td>\n",
       "      <td>Thriller,  Romance,  Crime,  Melodrama</td>\n",
       "      <td>Married Couple, Deception, Suspense, Family Se...</td>\n",
       "      <td>#3</td>\n",
       "      <td>9.1</td>\n",
       "    </tr>\n",
       "  </tbody>\n",
       "</table>\n",
       "</div>"
      ],
      "text/plain": [
       "                Name  Year of release                   Aired Date  \\\n",
       "0     Move to Heaven             2021                 May 14, 2021   \n",
       "1  Hospital Playlist             2020  Mar 12, 2020 - May 28, 2020   \n",
       "2     Flower of Evil             2020  Jul 29, 2020 - Sep 23, 2020   \n",
       "\n",
       "               Aired On  Number of Episode  \\\n",
       "0                Friday                 10   \n",
       "1              Thursday                 12   \n",
       "2   Wednesday, Thursday                 16   \n",
       "\n",
       "                                        Network       Duration  \\\n",
       "0        Netflix,  Netflix,  Netflix,  Netflix         52 min.   \n",
       "1  tvN,  Netflix,  Netflix,  Netflix,  Netflix   1 hr. 30 min.   \n",
       "2                                          tvN   1 hr. 10 min.   \n",
       "\n",
       "                           Content Rating  \\\n",
       "0  18+ Restricted (violence & profanity)    \n",
       "1                15+ - Teens 15 or older    \n",
       "2                15+ - Teens 15 or older    \n",
       "\n",
       "                                            Synopsis  \\\n",
       "0  Geu Roo is a young autistic man. He works for ...   \n",
       "1  The stories of people going through their days...   \n",
       "2  Although Baek Hee Sung is hiding a dark secret...   \n",
       "\n",
       "                                                Cast  \\\n",
       "0  Lee Je Hoon, Tang Jun Sang, Hong Seung Hee, Ju...   \n",
       "1  Jo Jung Suk, Yoo Yeon Seok, Jung Kyung Ho, Kim...   \n",
       "2  Lee Joon Gi, Moon Chae Won, Jang Hee Jin, Seo ...   \n",
       "\n",
       "                                     Genre  \\\n",
       "0                   Life,  Drama,  Family    \n",
       "1   Friendship,  Romance,  Life,  Medical    \n",
       "2  Thriller,  Romance,  Crime,  Melodrama    \n",
       "\n",
       "                                                Tags Rank  Rating  \n",
       "0  Autism, Father-Son Relationship, Uncle-Nephew ...   #1     9.2  \n",
       "1  Strong Friendship, Doctor, Multiple Mains, Slo...   #2     9.1  \n",
       "2  Married Couple, Deception, Suspense, Family Se...   #3     9.1  "
      ]
     },
     "execution_count": 2,
     "metadata": {},
     "output_type": "execute_result"
    }
   ],
   "source": [
    "# Import file csv\n",
    "data_drakor= pd.read_csv('top100_kdrama.csv')\n",
    "\n",
    "# Menampilkan 3 data teratas\n",
    "data_drakor.head(3)"
   ]
  },
  {
   "cell_type": "markdown",
   "id": "eff7218a",
   "metadata": {},
   "source": [
    "## 2. Ceritakan dataset yang anda ambil dan kira-kira value apa yang anda bisa ambil dari data tersebut"
   ]
  },
  {
   "cell_type": "markdown",
   "id": "2b65fa11",
   "metadata": {},
   "source": [
    "Dataset top100_kdrama.csv adalah dataset yang berisi daftar drama korea dengan rating tertinggi, dengan kata lain merupakan data set dari drama korea terpopuler, dataset ini mempunyai 14 atribut, berikut atribut dan contoh valuenya"
   ]
  },
  {
   "cell_type": "code",
   "execution_count": 3,
   "id": "b950268b",
   "metadata": {
    "scrolled": true
   },
   "outputs": [
    {
     "data": {
      "text/html": [
       "<div>\n",
       "<style scoped>\n",
       "    .dataframe tbody tr th:only-of-type {\n",
       "        vertical-align: middle;\n",
       "    }\n",
       "\n",
       "    .dataframe tbody tr th {\n",
       "        vertical-align: top;\n",
       "    }\n",
       "\n",
       "    .dataframe thead th {\n",
       "        text-align: right;\n",
       "    }\n",
       "</style>\n",
       "<table border=\"1\" class=\"dataframe\">\n",
       "  <thead>\n",
       "    <tr style=\"text-align: right;\">\n",
       "      <th></th>\n",
       "      <th>Name</th>\n",
       "      <th>Year of release</th>\n",
       "      <th>Aired Date</th>\n",
       "      <th>Aired On</th>\n",
       "      <th>Number of Episode</th>\n",
       "      <th>Network</th>\n",
       "      <th>Duration</th>\n",
       "      <th>Content Rating</th>\n",
       "      <th>Synopsis</th>\n",
       "      <th>Cast</th>\n",
       "      <th>Genre</th>\n",
       "      <th>Tags</th>\n",
       "      <th>Rank</th>\n",
       "      <th>Rating</th>\n",
       "    </tr>\n",
       "  </thead>\n",
       "  <tbody>\n",
       "    <tr>\n",
       "      <th>0</th>\n",
       "      <td>Move to Heaven</td>\n",
       "      <td>2021</td>\n",
       "      <td>May 14, 2021</td>\n",
       "      <td>Friday</td>\n",
       "      <td>10</td>\n",
       "      <td>Netflix,  Netflix,  Netflix,  Netflix</td>\n",
       "      <td>52 min.</td>\n",
       "      <td>18+ Restricted (violence &amp; profanity)</td>\n",
       "      <td>Geu Roo is a young autistic man. He works for ...</td>\n",
       "      <td>Lee Je Hoon, Tang Jun Sang, Hong Seung Hee, Ju...</td>\n",
       "      <td>Life,  Drama,  Family</td>\n",
       "      <td>Autism, Father-Son Relationship, Uncle-Nephew ...</td>\n",
       "      <td>#1</td>\n",
       "      <td>9.2</td>\n",
       "    </tr>\n",
       "  </tbody>\n",
       "</table>\n",
       "</div>"
      ],
      "text/plain": [
       "             Name  Year of release    Aired Date Aired On  Number of Episode  \\\n",
       "0  Move to Heaven             2021  May 14, 2021   Friday                 10   \n",
       "\n",
       "                                  Network Duration  \\\n",
       "0  Netflix,  Netflix,  Netflix,  Netflix   52 min.   \n",
       "\n",
       "                           Content Rating  \\\n",
       "0  18+ Restricted (violence & profanity)    \n",
       "\n",
       "                                            Synopsis  \\\n",
       "0  Geu Roo is a young autistic man. He works for ...   \n",
       "\n",
       "                                                Cast                   Genre  \\\n",
       "0  Lee Je Hoon, Tang Jun Sang, Hong Seung Hee, Ju...  Life,  Drama,  Family    \n",
       "\n",
       "                                                Tags Rank  Rating  \n",
       "0  Autism, Father-Son Relationship, Uncle-Nephew ...   #1     9.2  "
      ]
     },
     "execution_count": 3,
     "metadata": {},
     "output_type": "execute_result"
    }
   ],
   "source": [
    "data_drakor.iloc[[0]]"
   ]
  },
  {
   "cell_type": "markdown",
   "id": "eb281e00",
   "metadata": {},
   "source": [
    "#### Penjelasan masing-masing atribut:<br>\n",
    "* Name: Judul drama korea\n",
    "* Year of release: Tahun rilis\n",
    "* Aired Date: Tanggal penayangan episode pertama-episode akhir\n",
    "* Number of Episode: Jumlah episode\n",
    "* Network: Saluran TV yang menayangkan drama tersebut\n",
    "* Duration: Durasi per episode\n",
    "* Content Rating: Rating kontent atau target usia penonton, terdiri dari Restricted, Teen dan Child\n",
    "* Synopsis: Sinopsis drama Korea\n",
    "* Cast: Daftar pemain\n",
    "* Genre: Daftar genre\n",
    "* Tags: Daftar tag\n",
    "* Rank: Peringkat drama Korea, dari yang tertinggi 0 sampai yang terendah 99\n",
    "* Rating: Penilaian, terendah 0.0, dan tertinggi 10.0"
   ]
  },
  {
   "cell_type": "markdown",
   "id": "f78c39de",
   "metadata": {},
   "source": [
    "#### Value yang dapat kita ambil / analisa:<br>\n",
    "1. Genre drama Korea terpopuler\n",
    "2. Saluran TV terbaik berdasarkan seberapa banyak drama Korea populer yang dimilikinya\n",
    "3. Jenis drama Korea yang disukai pemirsa berdasarkan content rating\n",
    "4. Dll."
   ]
  },
  {
   "cell_type": "markdown",
   "id": "0cfffc60",
   "metadata": {},
   "source": [
    "## 3. Visualisasikan dataset yang anda ambil secara sederhana."
   ]
  },
  {
   "cell_type": "markdown",
   "id": "755fb0cd",
   "metadata": {},
   "source": [
    "#### Memvisualisasikan tahun keemasan drama Korea berdasarkan tahun rilis dengan jumlah drama Korea terbanyak"
   ]
  },
  {
   "cell_type": "code",
   "execution_count": 4,
   "id": "91588180",
   "metadata": {},
   "outputs": [
    {
     "data": {
      "text/plain": [
       "<AxesSubplot:title={'center':'Histogram tahun keemasan drama Korea'}, xlabel='Year of release'>"
      ]
     },
     "execution_count": 4,
     "metadata": {},
     "output_type": "execute_result"
    },
    {
     "data": {
      "image/png": "[encoded data removed]",
      "text/plain": [
       "<Figure size 432x288 with 1 Axes>"
      ]
     },
     "metadata": {
      "needs_background": "light"
     },
     "output_type": "display_data"
    }
   ],
   "source": [
    "# Membuat fungsi untuk menghitung jumlah drama korea populer setiap tahun\n",
    "def count_year(x):\n",
    "    return len(data_drakor[data_drakor['Year of release']==x])\n",
    "\n",
    "# Membuat kolom tahun rilis sebagai baris/row\n",
    "data_drakor_by_year= data_drakor.groupby('Year of release').sum()\n",
    "\n",
    "# Mengaplikasikan fungsi count_year() lalu mengubah tahun rilis menjadi index\n",
    "data_drakor_year_count= pd.DataFrame(data_drakor_by_year.index).applymap(count_year).set_index(data_drakor_by_year.index)\n",
    "\n",
    "# Mengubah nama kolom dari 'Year of release' menjadi 'Jumlah drama korea'\n",
    "data_drakor_year_count= data_drakor_year_count.rename(columns={'Year of release':'Jumlah drama korea'})\n",
    "\n",
    "# Visualisasi data dalam bentuk bar\n",
    "data_drakor_year_count.plot(kind='bar', title='Histogram tahun keemasan drama Korea')"
   ]
  },
  {
   "cell_type": "markdown",
   "id": "ae79e36b",
   "metadata": {},
   "source": [
    "#### Memvisualisasikan genre drama korea terpopuler"
   ]
  },
  {
   "cell_type": "code",
   "execution_count": 5,
   "id": "27ae8148",
   "metadata": {
    "scrolled": false
   },
   "outputs": [
    {
     "data": {
      "text/plain": [
       "array([<AxesSubplot:ylabel='sum'>], dtype=object)"
      ]
     },
     "execution_count": 5,
     "metadata": {},
     "output_type": "execute_result"
    },
    {
     "data": {
      "image/png": "[encoded data removed]",
      "text/plain": [
       "<Figure size 576x576 with 1 Axes>"
      ]
     },
     "metadata": {},
     "output_type": "display_data"
    }
   ],
   "source": [
    "# Membuat fungsi peubah daftar genre yang berbentuk string menjadi list\n",
    "def parse_genre(x):\n",
    "    genre_raw= x.split(',')\n",
    "    genre_list = []\n",
    "    for genre in genre_raw:\n",
    "        genre_list.append(genre[:].strip())\n",
    "\n",
    "    return genre_list\n",
    "\n",
    "# Mengaplikasikan fungsi parse_genre()\n",
    "genre_list = list(data_drakor['Genre'].apply(parse_genre))\n",
    "\n",
    "# Proses membuat daftar genre unik menjadi kolom tambahan\n",
    "te= TransactionEncoder()\n",
    "te_gl= te.fit(genre_list).transform(genre_list)\n",
    "data_drakor_genre_count = pd.DataFrame(te_gl,columns=te.columns_)\n",
    "\n",
    "# Mengubah nilai boolean(True/False) pada kolom genre baru menjadi integer(1/0)\n",
    "data_drakor_genre_count= data_drakor_genre_count.astype(np.int8)\n",
    "\n",
    "# Transpose data, genre menjadi baris/index\n",
    "data_drakor_genre_count= data_drakor_genre_count.transpose()\n",
    "\n",
    "# Menjumlahkan genre di setiap kolom dan membuatnya menjadi kolom baru \n",
    "data_drakor_genre_count['sum']= data_drakor_genre_count[list(data_drakor_genre_count)].sum(axis=1)\n",
    "\n",
    "# Menghapus semua kolom hanya menyisakan kolom yang berisi jumlah genre\n",
    "data_drakor_genre_count= data_drakor_genre_count.iloc[:,-1]\n",
    "\n",
    "# Visualisasi data dalam bentuk diagram pie dengan color map gist_rainbow\n",
    "data_drakor_genre_count.plot(kind='pie', subplots=True, figsize=(8,8), cmap='gist_rainbow', title='Pie Chart untuk genre drama korea terpopuler', legend=False)"
   ]
  },
  {
   "cell_type": "markdown",
   "id": "e453dfe1",
   "metadata": {},
   "source": [
    "## 4. Deskripsikan informasi statistik dari data anda secara sederhana"
   ]
  },
  {
   "cell_type": "markdown",
   "id": "61c002f5",
   "metadata": {},
   "source": [
    "#### - Modus"
   ]
  },
  {
   "cell_type": "code",
   "execution_count": 6,
   "id": "a64a8513",
   "metadata": {},
   "outputs": [
    {
     "name": "stdout",
     "output_type": "stream",
     "text": [
      "Jumlah episode paling populer:  16\n",
      "Tahun rilis paling banyak/populer:  2020\n"
     ]
    }
   ],
   "source": [
    "print('Jumlah episode paling populer: ',data_drakor['Number of Episode'].mode().sum())\n",
    "print('Tahun rilis paling banyak/populer: ',data_drakor['Year of release'].mode().sum())"
   ]
  },
  {
   "cell_type": "markdown",
   "id": "07443418",
   "metadata": {},
   "source": [
    "#### - Mean"
   ]
  },
  {
   "cell_type": "code",
   "execution_count": 7,
   "id": "9c7a8fcb",
   "metadata": {},
   "outputs": [
    {
     "name": "stdout",
     "output_type": "stream",
     "text": [
      "Rata-rata rating:  8.703\n",
      "Rata-rata jumlah episode:  19.53\n"
     ]
    }
   ],
   "source": [
    "print('Rata-rata rating: ',data_drakor['Rating'].mean().sum())\n",
    "print('Rata-rata jumlah episode: ',data_drakor['Number of Episode'].mean().sum())"
   ]
  },
  {
   "cell_type": "markdown",
   "id": "a3afb47b",
   "metadata": {},
   "source": [
    "#### - Deskripsi ringkas"
   ]
  },
  {
   "cell_type": "code",
   "execution_count": 8,
   "id": "0dc0f62f",
   "metadata": {},
   "outputs": [
    {
     "data": {
      "text/html": [
       "<div>\n",
       "<style scoped>\n",
       "    .dataframe tbody tr th:only-of-type {\n",
       "        vertical-align: middle;\n",
       "    }\n",
       "\n",
       "    .dataframe tbody tr th {\n",
       "        vertical-align: top;\n",
       "    }\n",
       "\n",
       "    .dataframe thead th {\n",
       "        text-align: right;\n",
       "    }\n",
       "</style>\n",
       "<table border=\"1\" class=\"dataframe\">\n",
       "  <thead>\n",
       "    <tr style=\"text-align: right;\">\n",
       "      <th></th>\n",
       "      <th>Year of release</th>\n",
       "      <th>Number of Episode</th>\n",
       "      <th>Rating</th>\n",
       "    </tr>\n",
       "  </thead>\n",
       "  <tbody>\n",
       "    <tr>\n",
       "      <th>count</th>\n",
       "      <td>100.000000</td>\n",
       "      <td>100.000000</td>\n",
       "      <td>100.000000</td>\n",
       "    </tr>\n",
       "    <tr>\n",
       "      <th>mean</th>\n",
       "      <td>2017.680000</td>\n",
       "      <td>19.530000</td>\n",
       "      <td>8.703000</td>\n",
       "    </tr>\n",
       "    <tr>\n",
       "      <th>std</th>\n",
       "      <td>2.827999</td>\n",
       "      <td>12.307881</td>\n",
       "      <td>0.178351</td>\n",
       "    </tr>\n",
       "    <tr>\n",
       "      <th>min</th>\n",
       "      <td>2003.000000</td>\n",
       "      <td>6.000000</td>\n",
       "      <td>8.500000</td>\n",
       "    </tr>\n",
       "    <tr>\n",
       "      <th>25%</th>\n",
       "      <td>2016.750000</td>\n",
       "      <td>16.000000</td>\n",
       "      <td>8.600000</td>\n",
       "    </tr>\n",
       "    <tr>\n",
       "      <th>50%</th>\n",
       "      <td>2018.000000</td>\n",
       "      <td>16.000000</td>\n",
       "      <td>8.700000</td>\n",
       "    </tr>\n",
       "    <tr>\n",
       "      <th>75%</th>\n",
       "      <td>2020.000000</td>\n",
       "      <td>20.000000</td>\n",
       "      <td>8.800000</td>\n",
       "    </tr>\n",
       "    <tr>\n",
       "      <th>max</th>\n",
       "      <td>2021.000000</td>\n",
       "      <td>100.000000</td>\n",
       "      <td>9.200000</td>\n",
       "    </tr>\n",
       "  </tbody>\n",
       "</table>\n",
       "</div>"
      ],
      "text/plain": [
       "       Year of release  Number of Episode      Rating\n",
       "count       100.000000         100.000000  100.000000\n",
       "mean       2017.680000          19.530000    8.703000\n",
       "std           2.827999          12.307881    0.178351\n",
       "min        2003.000000           6.000000    8.500000\n",
       "25%        2016.750000          16.000000    8.600000\n",
       "50%        2018.000000          16.000000    8.700000\n",
       "75%        2020.000000          20.000000    8.800000\n",
       "max        2021.000000         100.000000    9.200000"
      ]
     },
     "execution_count": 8,
     "metadata": {},
     "output_type": "execute_result"
    }
   ],
   "source": [
    "data_drakor.describe()"
   ]
  },
  {
   "cell_type": "code",
   "execution_count": null,
   "id": "47d8f404",
   "metadata": {},
   "outputs": [],
   "source": []
  }
 ],
 "metadata": {
  "kernelspec": {
   "display_name": "Python 3 (ipykernel)",
   "language": "python",
   "name": "python3"
  },
  "language_info": {
   "codemirror_mode": {
    "name": "ipython",
    "version": 3
   },
   "file_extension": ".py",
   "mimetype": "text/x-python",
   "name": "python",
   "nbconvert_exporter": "python",
   "pygments_lexer": "ipython3",
   "version": "3.7.7"
  }
 },
 "nbformat": 4,
 "nbformat_minor": 5
}
