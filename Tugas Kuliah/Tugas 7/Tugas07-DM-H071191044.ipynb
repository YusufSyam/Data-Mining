{
 "cells": [
  {
   "cell_type": "markdown",
   "metadata": {},
   "source": [
    "## Tugas 07 Data Mining"
   ]
  },
  {
   "cell_type": "markdown",
   "metadata": {},
   "source": [
    "Nama: Muh. Yusuf Syam<br>\n",
    "NIM: H071191044"
   ]
  },
  {
   "cell_type": "markdown",
   "metadata": {
    "id": "PvrrQf4m5Hug"
   },
   "source": [
    "<h1 align=\"center\"> Machine Learning Performance Measure </h1><br>"
   ]
  },
  {
   "cell_type": "markdown",
   "metadata": {},
   "source": [
    "Performance Measure adalah proses evaluasi atau analisis terhadap model machine learning menggunakan algoritma-algoritma tertentu. Performance Measure untuk setiap task Machine Learning berbeda-beda, misalnya untuk task classification terdapat accuraccy score sementara pada task reggression terdapat mean absolute error"
   ]
  },
  {
   "cell_type": "markdown",
   "metadata": {},
   "source": [
    "Pertama-tama kita mengimport library yang dibutuhkan"
   ]
  },
  {
   "cell_type": "code",
   "execution_count": 1,
   "metadata": {
    "id": "X5_f-VGWTJCU"
   },
   "outputs": [],
   "source": [
    "# Library untuk mengolah data\n",
    "import pandas as pd\n",
    "import numpy as np\n",
    "\n",
    "# Library untuk preprocessing\n",
    "from sklearn.preprocessing import StandardScaler\n",
    "from sklearn.model_selection import train_test_split\n",
    "\n",
    "# Library untuk Classification dan performance measurenya\n",
    "from sklearn.multiclass import OneVsRestClassifier\n",
    "from sklearn.linear_model import LogisticRegression\n",
    "from sklearn.datasets import make_classification\n",
    "from sklearn.metrics import roc_curve, roc_auc_score, classification_report, accuracy_score, precision_score, recall_score, f1_score, confusion_matrix\n",
    "\n",
    "# Library untuk Regression dan performance measurenya\n",
    "from sklearn.datasets import load_iris\n",
    "from sklearn.linear_model import LinearRegression, LogisticRegression\n",
    "from sklearn.metrics import r2_score\n",
    "\n",
    "# Library untuk Clustering dan performance measurenya\n",
    "from sklearn.cluster import KMeans\n",
    "from sklearn.metrics import silhouette_score, mean_absolute_error, mean_squared_error\n",
    "\n",
    "# Library untuk visualisasi\n",
    "import matplotlib.pyplot as plt\n",
    "import seaborn as sns"
   ]
  },
  {
   "cell_type": "markdown",
   "metadata": {
    "id": "yLQCnYAp-t2E"
   },
   "source": [
    "### 1. Classification"
   ]
  },
  {
   "cell_type": "markdown",
   "metadata": {},
   "source": [
    "Classification merupakan task supervised learning (pembelajaran dengan pengawasan) pada machine learning untuk memprediksi y atau kelas/label/target berdasarkan data(x) yang diberikan sebelumnya.\n",
    "\n",
    "Contoh performance measure pada classification:\n",
    "* accuraccy score\n",
    "* precision\n",
    "* recall\n",
    "* f1-score\n",
    "* confusion matrix\n",
    "* roc-curve"
   ]
  },
  {
   "cell_type": "markdown",
   "metadata": {},
   "source": [
    "Berikut contoh classification beserta performance measure nya."
   ]
  },
  {
   "cell_type": "markdown",
   "metadata": {},
   "source": [
    "Menggenerate dataset klasifikasi:\n",
    "* 1000 baris x 21 kolom (20 fitur dan 1 target)\n",
    "* Kelas target berjumlah 3"
   ]
  },
  {
   "cell_type": "code",
   "execution_count": 2,
   "metadata": {
    "id": "4ei2MQyYTOxD"
   },
   "outputs": [],
   "source": [
    "# Mendefinisikan dataset\n",
    "X, y = make_classification(n_samples=1000, n_classes=3, n_features=20, n_informative=3, random_state=42)"
   ]
  },
  {
   "cell_type": "markdown",
   "metadata": {},
   "source": [
    "Membagi data menjadi data train(uji) dan data test, dengan ukuran data test yaitu 0.4 atau 40% dari keseluruhan dataset"
   ]
  },
  {
   "cell_type": "code",
   "execution_count": 3,
   "metadata": {
    "id": "Iwu74TZZTQP5"
   },
   "outputs": [],
   "source": [
    "X_train, X_test, y_train, y_test = train_test_split(X, y, test_size=0.4, random_state=42)"
   ]
  },
  {
   "cell_type": "markdown",
   "metadata": {},
   "source": [
    "Membuat model classification. Metode/algoritma classification yang digunakan adalah logistic regression dengan strategi One-vs-Rest yang mana membagi classification multi-kelas menjadi satu masalah classification biner per kelas/label"
   ]
  },
  {
   "cell_type": "code",
   "execution_count": 4,
   "metadata": {
    "id": "SfTsAaRQTRuu"
   },
   "outputs": [],
   "source": [
    "# Membuat model One-vs-Rest, parameter pertama yaitu estimator/metode yang digunakan, yaitu logistic reggression\n",
    "clf = OneVsRestClassifier(LogisticRegression())\n",
    "\n",
    "# Melatih model\n",
    "clf.fit(X_train, y_train)\n",
    "\n",
    "# Memprediksi kelas dari x_test menggunakan model yang dibuat\n",
    "pred = clf.predict(X_test)"
   ]
  },
  {
   "cell_type": "markdown",
   "metadata": {},
   "source": [
    "Karena predict() hanya mengembalikan kelas dengan probabilitas tertinggi, maka kita memanggil fungsi predict_proba. predict_proba merupakan fungsi yang mengembalikan probilitas x yang diberikan terhadap setiap kelas, predict_proba digunakan salah satunya untuk evaluasi confusion matrix"
   ]
  },
  {
   "cell_type": "code",
   "execution_count": 5,
   "metadata": {},
   "outputs": [],
   "source": [
    "# Memanggil fungsi predict_proba()\n",
    "pred_prob = clf.predict_proba(X_test)\n",
    "\n",
    "# Mengambil kolom kedua dari pred_prob\n",
    "y_pred_proba_positive = pred_prob[:,1]\n",
    "\n",
    "# Mendefinisikan y_true sama dengan y_test\n",
    "y_true = y_test"
   ]
  },
  {
   "cell_type": "markdown",
   "metadata": {
    "id": "c3My6UIS9Wnf"
   },
   "source": [
    "#### 1. Accuracy Score"
   ]
  },
  {
   "cell_type": "markdown",
   "metadata": {},
   "source": [
    "Merupakan skor akurasi klasifikasi, Cara menghitung accuraccy score: $\\frac{Jumlah\\,Prediksi\\,Benar}{Total\\,Seluruh\\,Prediksi}$"
   ]
  },
  {
   "cell_type": "code",
   "execution_count": 6,
   "metadata": {
    "id": "yuRDa8XStgU8"
   },
   "outputs": [],
   "source": [
    "# Menghitung accuraccy score\n",
    "CA=accuracy_score(y_true, pred)\n",
    "\n",
    "# Menghitung accuraccy score tapi tidak dinormalisasi, artinya mengembalikan jumlah mentah hasil classification yang benar\n",
    "NCCS=accuracy_score(y_true, pred, normalize=False)"
   ]
  },
  {
   "cell_type": "markdown",
   "metadata": {},
   "source": [
    "Accuraccy score"
   ]
  },
  {
   "cell_type": "code",
   "execution_count": 7,
   "metadata": {
    "colab": {
     "base_uri": "https://localhost:8080/"
    },
    "id": "JWLkoYYKuIJ3",
    "outputId": "b7fa7adc-d63b-4e41-f988-3e18e3478c78"
   },
   "outputs": [
    {
     "data": {
      "text/plain": [
       "'61.75%'"
      ]
     },
     "execution_count": 7,
     "metadata": {},
     "output_type": "execute_result"
    }
   ],
   "source": [
    "'{:.2f}%'.format(CA*100)"
   ]
  },
  {
   "cell_type": "markdown",
   "metadata": {},
   "source": [
    "Jumlah classification yang benar"
   ]
  },
  {
   "cell_type": "code",
   "execution_count": 8,
   "metadata": {
    "colab": {
     "base_uri": "https://localhost:8080/"
    },
    "id": "ERXR2CEKuIJ6",
    "outputId": "bfd271d7-6613-41ca-ba99-6d60e45c7e11"
   },
   "outputs": [
    {
     "data": {
      "text/plain": [
       "247"
      ]
     },
     "execution_count": 8,
     "metadata": {},
     "output_type": "execute_result"
    }
   ],
   "source": [
    "NCCS"
   ]
  },
  {
   "cell_type": "markdown",
   "metadata": {
    "id": "3iDuQ6tx9Zg1"
   },
   "source": [
    "#### 2. Precision, Recall, dan F1-Score"
   ]
  },
  {
   "cell_type": "markdown",
   "metadata": {},
   "source": [
    "__a. Precision__\n",
    "\n",
    "\n",
    "adalah berapa banyak / proporsi prediksi yang benar di antara semua prediksi dari kelas tertentu. Dengan kata lain, ini adalah proporsi true positif di antara semua prediksi positif. Cara menghitung precision: $\\frac{TP}{TP+FT}$"
   ]
  },
  {
   "cell_type": "markdown",
   "metadata": {},
   "source": [
    "Precision (precision dari hasil prediksi label 1-3 dari kiri ke kanan secara berurutan)"
   ]
  },
  {
   "cell_type": "code",
   "execution_count": 9,
   "metadata": {},
   "outputs": [
    {
     "data": {
      "text/plain": [
       "array([0.62251656, 0.45238095, 0.6969697 ])"
      ]
     },
     "execution_count": 9,
     "metadata": {},
     "output_type": "execute_result"
    }
   ],
   "source": [
    "precision_score(y_true, pred, average=None)"
   ]
  },
  {
   "cell_type": "markdown",
   "metadata": {},
   "source": [
    "__b. Recall__\n",
    "\n",
    "adalah seberapa relevan proporsi prediksi benar yang dihasilkan. Dengan kata lain, ini adalah proporsi true positif di antara semua contoh yang true. Cara menghitung precision: $\\frac{TP}{FN+TP}$"
   ]
  },
  {
   "cell_type": "code",
   "execution_count": 10,
   "metadata": {},
   "outputs": [
    {
     "data": {
      "text/plain": [
       "array([0.70676692, 0.29230769, 0.83941606])"
      ]
     },
     "execution_count": 10,
     "metadata": {},
     "output_type": "execute_result"
    }
   ],
   "source": [
    "recall_score(y_true, pred, average=None)"
   ]
  },
  {
   "cell_type": "markdown",
   "metadata": {},
   "source": [
    "__c. F1-Score__\n",
    "\n",
    "\n",
    "adalah rata-rata harmonik dari Precision dan Recall. Cara menghitung f1-score: $2\\times \\frac{Precision\\times {Recall}}{Precision+ {Recall}}$"
   ]
  },
  {
   "cell_type": "code",
   "execution_count": 11,
   "metadata": {},
   "outputs": [
    {
     "data": {
      "text/plain": [
       "array([0.66197183, 0.35514019, 0.7615894 ])"
      ]
     },
     "execution_count": 11,
     "metadata": {},
     "output_type": "execute_result"
    }
   ],
   "source": [
    "f1_score(y_true, pred, average=None)"
   ]
  },
  {
   "cell_type": "markdown",
   "metadata": {},
   "source": [
    "__d. Classification Report__\n",
    "\n",
    "merupakan evaluasi yang memperlihatkan hasil precision, recall, f1-score, serta support dengan tampilan yang lebih ringkas dan jelas"
   ]
  },
  {
   "cell_type": "code",
   "execution_count": 12,
   "metadata": {
    "id": "aIgRkJ6NGVPQ"
   },
   "outputs": [
    {
     "name": "stdout",
     "output_type": "stream",
     "text": [
      "              precision    recall  f1-score   support\n",
      "\n",
      "      label1       0.62      0.71      0.66       133\n",
      "      label2       0.45      0.29      0.36       130\n",
      "      label3       0.70      0.84      0.76       137\n",
      "\n",
      "    accuracy                           0.62       400\n",
      "   macro avg       0.59      0.61      0.59       400\n",
      "weighted avg       0.59      0.62      0.60       400\n",
      "\n"
     ]
    }
   ],
   "source": [
    "labels = [\"label1\",\"label2\",\"label3\"]\n",
    "\n",
    "print(classification_report(y_true, pred, target_names=labels))"
   ]
  },
  {
   "cell_type": "markdown",
   "metadata": {
    "id": "I2jHX7tN9tMj"
   },
   "source": [
    "#### 3. Confusion Matrix"
   ]
  },
  {
   "cell_type": "markdown",
   "metadata": {},
   "source": [
    "Confusion Matrix merupakan metrik evaluasi yang memberikan informasi perbandingan hasil klasifikasi model dengan hasil klasifikasi sebenarnya"
   ]
  },
  {
   "attachments": {
    "02a1ae_32cad84eaf3348059a8996d1b0f88627~mv2%20-%20Copy.jpg": {
     "image/jpeg": "[encoded data removed]"
    }
   },
   "cell_type": "markdown",
   "metadata": {},
   "source": [
    "![02a1ae_32cad84eaf3348059a8996d1b0f88627~mv2%20-%20Copy.jpg](attachment:02a1ae_32cad84eaf3348059a8996d1b0f88627~mv2%20-%20Copy.jpg)"
   ]
  },
  {
   "cell_type": "markdown",
   "metadata": {},
   "source": [
    "Menghitung confusion matrix. Confusion matrix dari sklearn mengasumsikan nilai prediksi secara vertikal, dan nilai aktual/expected secara horizontal. Selanjutnya ditampilkan dalam bentuk array"
   ]
  },
  {
   "cell_type": "code",
   "execution_count": 13,
   "metadata": {
    "colab": {
     "base_uri": "https://localhost:8080/"
    },
    "id": "sxn1pjud6PpA",
    "outputId": "77db5d21-ef8d-407b-f5da-e0f806e1d505"
   },
   "outputs": [
    {
     "data": {
      "text/plain": [
       "array([[ 94,  50,   7],\n",
       "       [ 31,  38,  15],\n",
       "       [  8,  42, 115]], dtype=int64)"
      ]
     },
     "execution_count": 13,
     "metadata": {},
     "output_type": "execute_result"
    }
   ],
   "source": [
    "# Menghitung confusion matrix\n",
    "cm = confusion_matrix(pred, y_true)\n",
    "cm"
   ]
  },
  {
   "cell_type": "markdown",
   "metadata": {},
   "source": [
    "Visualisasi confusion matrix menggunakan seaborn. Karena pada fungsi confusion matrix pada cell atas parameter y_true dan y_pred nya terbalik, maka posisi predicted berubah menjadi horizontal, dan aktual menjadi vertikal "
   ]
  },
  {
   "cell_type": "code",
   "execution_count": 14,
   "metadata": {
    "colab": {
     "base_uri": "https://localhost:8080/",
     "height": 444
    },
    "id": "P0a5yoQz6BV3",
    "outputId": "67f4c653-0a54-4544-e03d-befce8a153b4"
   },
   "outputs": [
    {
     "data": {
      "image/png": "[encoded data removed]",
      "text/plain": [
       "<Figure size 720x504 with 2 Axes>"
      ]
     },
     "metadata": {
      "needs_background": "light"
     },
     "output_type": "display_data"
    }
   ],
   "source": [
    "# Membuat dataframe yang akan divisualisasikan dengan plot heatmap\n",
    "model_df_cm = pd.DataFrame(cm, labels, labels)\n",
    "\n",
    "# Menyetel atribut visualisasi\n",
    "plt.figure(figsize = (10,7))\n",
    "plt.title('Confussion Matrix', pad=16, size=20) \n",
    "sns.set(font_scale=1) #for label size \n",
    "\n",
    "# Membuat plot heatmap\n",
    "sns.heatmap(model_df_cm, annot=True, annot_kws={\"size\": 15}, cmap='summer') # font size \n",
    "\n",
    "# Mendefinisikan x label dan y label\n",
    "plt.ylabel('Predicted', labelpad=20)\n",
    "plt.xlabel('Expected', labelpad=20)\n",
    "plt.show()"
   ]
  },
  {
   "cell_type": "markdown",
   "metadata": {
    "id": "FgY6URxM9yO6"
   },
   "source": [
    "#### 4. ROC-Curve"
   ]
  },
  {
   "cell_type": "markdown",
   "metadata": {},
   "source": [
    "ROC-Curve adalah grafik/line plot True Positive Rate dan False Positive Rate dari suatu model klasifikasi"
   ]
  },
  {
   "attachments": {
    "imagesroc.png": {
     "image/png": "[encoded data removed]"
    }
   },
   "cell_type": "markdown",
   "metadata": {},
   "source": [
    "![imagesroc.png](attachment:imagesroc.png)"
   ]
  },
  {
   "cell_type": "markdown",
   "metadata": {},
   "source": [
    "Menghitung roc-curve dari ketiga kelas"
   ]
  },
  {
   "cell_type": "code",
   "execution_count": 15,
   "metadata": {
    "id": "engcV7bRTT3Q"
   },
   "outputs": [],
   "source": [
    "fpr = {}\n",
    "tpr = {}\n",
    "thresh ={}\n",
    "\n",
    "n_class = 3\n",
    "\n",
    "for i in range(n_class):    \n",
    "    fpr[i], tpr[i], thresh[i] = roc_curve(y_test, pred_prob[:,i], pos_label=i)"
   ]
  },
  {
   "cell_type": "markdown",
   "metadata": {},
   "source": [
    "Plot ROC dari ketiga kelas / label"
   ]
  },
  {
   "cell_type": "code",
   "execution_count": 16,
   "metadata": {
    "colab": {
     "base_uri": "https://localhost:8080/",
     "height": 301
    },
    "id": "GqSKygA7Nrvo",
    "outputId": "0cb47657-11b4-46cc-9804-1699c067cac7"
   },
   "outputs": [
    {
     "data": {
      "image/png": "[encoded data removed]",
      "text/plain": [
       "<Figure size 432x288 with 1 Axes>"
      ]
     },
     "metadata": {},
     "output_type": "display_data"
    }
   ],
   "source": [
    "# Plot line dari ketiga kelas\n",
    "plt.plot(fpr[0], tpr[0], linestyle='--',color='orange', label='Class 0 vs Rest')\n",
    "plt.plot(fpr[1], tpr[1], linestyle='--',color='green', label='Class 1 vs Rest')\n",
    "plt.plot(fpr[2], tpr[2], linestyle='--',color='blue', label='Class 2 vs Rest')\n",
    "\n",
    "# Menyetel atribut plot\n",
    "plt.title('Multiclass ROC curve')\n",
    "plt.xlabel('False Positive Rate')\n",
    "plt.ylabel('True Positive rate')\n",
    "\n",
    "plt.legend(loc='best')\n",
    "\n",
    "plt.savefig('Multiclass ROC',dpi=300);"
   ]
  },
  {
   "cell_type": "markdown",
   "metadata": {
    "id": "sxpUTYsN92kx"
   },
   "source": [
    "### 2. Regression / Estimation / Prediction"
   ]
  },
  {
   "cell_type": "markdown",
   "metadata": {},
   "source": [
    "Regression merupakan task supervised learning (pembelajaran dengan pengawasan) pada machine learning. Perbedaan classification dengan regression yaitu yang diprediksi pada classification merupakan kelas, sedangkan pada regression yang diprediksi adalah nilai kontinu atau numerik.\n",
    "\n",
    "Contoh performance measure pada regression:\n",
    "* MAE\n",
    "* MSE\n",
    "* RMSE\n",
    "* RMSLE\n",
    "* R2-Score\n",
    "* Adjusted R2-Score"
   ]
  },
  {
   "cell_type": "markdown",
   "metadata": {},
   "source": [
    "Berikut contoh regression beserta performance measure nya."
   ]
  },
  {
   "cell_type": "markdown",
   "metadata": {},
   "source": [
    "Pertama-tama kita membuat dataset yang berisi kamera sebagai x, dan harganya sebagai y"
   ]
  },
  {
   "cell_type": "code",
   "execution_count": 17,
   "metadata": {
    "colab": {
     "base_uri": "https://localhost:8080/",
     "height": 300
    },
    "id": "ST4OB7LP9sCN",
    "outputId": "e966b56f-52aa-4e10-e1f8-28f20f2ce8e2"
   },
   "outputs": [
    {
     "data": {
      "text/html": [
       "<div>\n",
       "<style scoped>\n",
       "    .dataframe tbody tr th:only-of-type {\n",
       "        vertical-align: middle;\n",
       "    }\n",
       "\n",
       "    .dataframe tbody tr th {\n",
       "        vertical-align: top;\n",
       "    }\n",
       "\n",
       "    .dataframe thead th {\n",
       "        text-align: right;\n",
       "    }\n",
       "</style>\n",
       "<table border=\"1\" class=\"dataframe\">\n",
       "  <thead>\n",
       "    <tr style=\"text-align: right;\">\n",
       "      <th></th>\n",
       "      <th>Kamera(x)</th>\n",
       "      <th>Harga(y)</th>\n",
       "    </tr>\n",
       "  </thead>\n",
       "  <tbody>\n",
       "    <tr>\n",
       "      <th>0</th>\n",
       "      <td>8</td>\n",
       "      <td>7</td>\n",
       "    </tr>\n",
       "    <tr>\n",
       "      <th>1</th>\n",
       "      <td>2</td>\n",
       "      <td>3</td>\n",
       "    </tr>\n",
       "    <tr>\n",
       "      <th>2</th>\n",
       "      <td>6</td>\n",
       "      <td>7</td>\n",
       "    </tr>\n",
       "    <tr>\n",
       "      <th>3</th>\n",
       "      <td>9</td>\n",
       "      <td>10</td>\n",
       "    </tr>\n",
       "    <tr>\n",
       "      <th>4</th>\n",
       "      <td>4</td>\n",
       "      <td>2</td>\n",
       "    </tr>\n",
       "    <tr>\n",
       "      <th>5</th>\n",
       "      <td>5</td>\n",
       "      <td>6</td>\n",
       "    </tr>\n",
       "    <tr>\n",
       "      <th>6</th>\n",
       "      <td>7</td>\n",
       "      <td>8</td>\n",
       "    </tr>\n",
       "    <tr>\n",
       "      <th>7</th>\n",
       "      <td>3</td>\n",
       "      <td>3</td>\n",
       "    </tr>\n",
       "  </tbody>\n",
       "</table>\n",
       "</div>"
      ],
      "text/plain": [
       "   Kamera(x)  Harga(y)\n",
       "0          8         7\n",
       "1          2         3\n",
       "2          6         7\n",
       "3          9        10\n",
       "4          4         2\n",
       "5          5         6\n",
       "6          7         8\n",
       "7          3         3"
      ]
     },
     "execution_count": 17,
     "metadata": {},
     "output_type": "execute_result"
    }
   ],
   "source": [
    "# Membuat data frame dari list 2d\n",
    "data_1 = pd.DataFrame([[8, 7], [2, 3], [6, 7], [9, 10], [4, 2], [5, 6], [7, 8], [3, 3]])\n",
    "\n",
    "# Memberikan header columns\n",
    "data_1.columns = ['Kamera(x)', 'Harga(y)']\n",
    "\n",
    "data_1"
   ]
  },
  {
   "cell_type": "markdown",
   "metadata": {},
   "source": [
    "Membagi data menjadi X dan y"
   ]
  },
  {
   "cell_type": "code",
   "execution_count": 18,
   "metadata": {
    "id": "9vIx-tPT9s_n"
   },
   "outputs": [],
   "source": [
    "X = data_1[\"Kamera(x)\"].values[:, np.newaxis]\n",
    "y = data_1[\"Harga(y)\"].values"
   ]
  },
  {
   "cell_type": "markdown",
   "metadata": {},
   "source": [
    "Membagi data menjadi data train dan data test, dengan besar data test 0.2 atau 20% dari keseluruhan dataset"
   ]
  },
  {
   "cell_type": "code",
   "execution_count": 19,
   "metadata": {
    "id": "cS2ZK8Nd9wXk"
   },
   "outputs": [],
   "source": [
    "X_train, X_test, y_train, y_test = train_test_split(X, y, test_size =  0.2, random_state=3)"
   ]
  },
  {
   "cell_type": "markdown",
   "metadata": {},
   "source": [
    "Metode/algoritma regression yang digunakan adalah Linear Regression. Terlebih dahulu kita membuat modelnya lalu melakukan training"
   ]
  },
  {
   "cell_type": "code",
   "execution_count": 20,
   "metadata": {
    "colab": {
     "base_uri": "https://localhost:8080/"
    },
    "id": "cCfg3b5i9y3C",
    "outputId": "075aca00-3e52-47e5-ba25-830d3e259f82"
   },
   "outputs": [
    {
     "data": {
      "text/plain": [
       "LinearRegression()"
      ]
     },
     "execution_count": 20,
     "metadata": {},
     "output_type": "execute_result"
    }
   ],
   "source": [
    "# Membuat model linear regression\n",
    "lr = LinearRegression()\n",
    "\n",
    "# Meng-train / melatih data. Di sini saya mengganti parameter X dan y karena sepertinya terjadi kesalahan\n",
    "lr.fit(X_train, y_train)"
   ]
  },
  {
   "cell_type": "markdown",
   "metadata": {},
   "source": [
    "Melakukan prediksi terhadap x_test"
   ]
  },
  {
   "cell_type": "code",
   "execution_count": 21,
   "metadata": {
    "id": "5qhb6den95O6"
   },
   "outputs": [
    {
     "data": {
      "text/plain": [
       "array([5.10784314, 2.99019608])"
      ]
     },
     "execution_count": 21,
     "metadata": {},
     "output_type": "execute_result"
    }
   ],
   "source": [
    "y_pred = lr.predict(X_test)\n",
    "\n",
    "y_pred"
   ]
  },
  {
   "cell_type": "markdown",
   "metadata": {},
   "source": [
    "#### 1. MAE (Mean Absolute Error)"
   ]
  },
  {
   "cell_type": "markdown",
   "metadata": {},
   "source": [
    "MAE merupakan jumlah rata-rata/mean dari selisih/error mutlak antara nilai prediksi dan nilai aktual.\n",
    "\n",
    "$MAE=\\frac{\\sum_{i=1}^{n}abs(y_i-\\hat{y_i})}{n}$"
   ]
  },
  {
   "cell_type": "code",
   "execution_count": 22,
   "metadata": {
    "colab": {
     "base_uri": "https://localhost:8080/"
    },
    "id": "GG4OksbN-Dhu",
    "outputId": "3417c1c0-2a38-4f97-be44-0560068ac92c"
   },
   "outputs": [
    {
     "name": "stdout",
     "output_type": "stream",
     "text": [
      "MAE 0.4509803921568629\n"
     ]
    }
   ],
   "source": [
    "print(\"MAE\",mean_absolute_error(y_test,y_pred))"
   ]
  },
  {
   "cell_type": "markdown",
   "metadata": {},
   "source": [
    "#### 2. MSE (Mean Squared Error)"
   ]
  },
  {
   "cell_type": "markdown",
   "metadata": {},
   "source": [
    "MSE merupakan rata-rata/mean kuadrat selisih/error antara antara nilai prediksi dan nilai aktual.\n",
    "\n",
    "$MSE = \\sum_{i=1}^{n}{\\frac{(y_i-\\hat{y_i})^2}{n}}$"
   ]
  },
  {
   "cell_type": "code",
   "execution_count": 23,
   "metadata": {
    "colab": {
     "base_uri": "https://localhost:8080/"
    },
    "id": "G_eiGRYe-G3V",
    "outputId": "8ccb1ac2-7f39-465d-d931-4c5fefd24b57"
   },
   "outputs": [
    {
     "name": "stdout",
     "output_type": "stream",
     "text": [
      "MSE 0.3980199923106501\n"
     ]
    }
   ],
   "source": [
    "print(\"MSE\",mean_squared_error(y_test,y_pred))"
   ]
  },
  {
   "cell_type": "markdown",
   "metadata": {},
   "source": [
    "#### 3. RMSE (Root Mean Squared Error)"
   ]
  },
  {
   "cell_type": "markdown",
   "metadata": {},
   "source": [
    "RMSE merupakan MSE yang diakarkan.\n",
    "\n",
    "$RMSE = \\sqrt{\\sum_{i=1}^{n}{\\frac{(y_i-\\hat{y_i})^2}{n}}}$"
   ]
  },
  {
   "cell_type": "code",
   "execution_count": 24,
   "metadata": {
    "colab": {
     "base_uri": "https://localhost:8080/"
    },
    "id": "68Cry9Bu-L-f",
    "outputId": "05a921fe-4ff5-4e2d-ec35-c5098839c789"
   },
   "outputs": [
    {
     "name": "stdout",
     "output_type": "stream",
     "text": [
      "RMSE 0.6308882565959285\n"
     ]
    }
   ],
   "source": [
    "print(\"RMSE\",np.sqrt(mean_squared_error(y_test,y_pred)))"
   ]
  },
  {
   "cell_type": "markdown",
   "metadata": {},
   "source": [
    "#### 4. RMSLE (Root Mean Squared Log Error)"
   ]
  },
  {
   "cell_type": "markdown",
   "metadata": {},
   "source": [
    "RMSLE merupakan MSE yang dilogaritma-kan lalu diakarkan.\n",
    "\n",
    "$RMSLE = \\sqrt{\\sum_{i=1}^{n}{\\frac{(log(y_i+1)-log(\\hat{y_i+1}))^2}{n}}}$"
   ]
  },
  {
   "cell_type": "code",
   "execution_count": 25,
   "metadata": {
    "colab": {
     "base_uri": "https://localhost:8080/"
    },
    "id": "01YKd0rp-L24",
    "outputId": "1f9d8ebb-f7d0-4511-db00-7c31a07be709"
   },
   "outputs": [
    {
     "name": "stdout",
     "output_type": "stream",
     "text": [
      "Log RMSE -0.460626521511487\n"
     ]
    }
   ],
   "source": [
    "print(\"Log RMSE\",np.log(np.sqrt(mean_squared_error(y_test,y_pred))))"
   ]
  },
  {
   "cell_type": "markdown",
   "metadata": {},
   "source": [
    "#### 5. R2-Score / R-Squared / Coefficient of Determination"
   ]
  },
  {
   "cell_type": "markdown",
   "metadata": {},
   "source": [
    "R2-Score adalah metrik yang menghitung selisih antara sampel dalam kumpulan data dan prediksi yang dibuat oleh model. Pada dasarnya R2-Score menunjukkan seberapa cocok data sampel dengan model regresi dari kisaran 0-1 atau 0-100% dalam analisis regresi.\n",
    "\n",
    "$R^2 = 1-\\frac{SSE}{SST}$\n",
    "\n",
    "$SSE = \\sum_{i=1}^{n}(y_i-\\hat{y_i})^2$ \n",
    "\n",
    "$SST = \\sum_{i=1}^{n}({y_i}-\\bar{y_i})^2 $ \n",
    "Ket:\n",
    "- SSE = jumlah kuadrat akibat regresi (Variasi yang bisa dijelaskan)\n",
    "- SST = Total jumlah kuadrat (Variasi Total)"
   ]
  },
  {
   "cell_type": "code",
   "execution_count": 26,
   "metadata": {
    "colab": {
     "base_uri": "https://localhost:8080/"
    },
    "id": "4S16ahb7-Sz5",
    "outputId": "b34d84f7-4b7b-4cdf-8c60-db5e34eaf39d"
   },
   "outputs": [
    {
     "name": "stdout",
     "output_type": "stream",
     "text": [
      "0.823102225639711\n"
     ]
    }
   ],
   "source": [
    "r2 = r2_score(y_test,y_pred)\n",
    "print(r2)"
   ]
  },
  {
   "cell_type": "markdown",
   "metadata": {},
   "source": [
    "#### 6. Adjusted R2-Score"
   ]
  },
  {
   "cell_type": "markdown",
   "metadata": {},
   "source": [
    "Seperti yang kita tau, R2-Score digunakan untuk mengetahui kecocokan dalam analisis regresi, namun R2-Score memiliki kelemahan. \n",
    "\n",
    "Pada kasus dataset kamera dan harga misalnya, kita menambahkan satu atribut baru yaitu umur istri dari penjual hp yang tidak terlalu memengaruhi y dalam kasus ini kamera. Jika kita menghitung R2-Score, maka skornya akan tetap naik meskipun atribut baru tersebut tidak terlalu berpengaruh. \n",
    "\n",
    "Di sinilah kita menggunakan adjusted R2-Score yang memberikan penalti (mengurangi score) jika atribut yang ditambahkan tidak begitu memengaruhi prediksi.\n",
    "\n",
    "$Adj\\_R^2=1-(\\frac{(1-R^2)\\times (n-1)}{n-k-1})$\n",
    "\n",
    "Ket :\n",
    "- k = Jumlah variabel independen / atribut\n",
    "- n = Jumlah sampel / baris"
   ]
  },
  {
   "cell_type": "markdown",
   "metadata": {},
   "source": [
    "Menghitung R2-Score dan Adjusted R2-Score dari data"
   ]
  },
  {
   "cell_type": "code",
   "execution_count": 27,
   "metadata": {
    "colab": {
     "base_uri": "https://localhost:8080/"
    },
    "id": "4jiiHULt-Wp6",
    "outputId": "3fde9b00-84a9-4541-9ead-96cb3eac1eb2"
   },
   "outputs": [
    {
     "name": "stdout",
     "output_type": "stream",
     "text": [
      "R2-Score 1: 0.823102225639711, Adj R2-Score 1: 0.7936192632463296\n"
     ]
    }
   ],
   "source": [
    "n= X.shape[0]\n",
    "k= X.shape[1]\n",
    "adj_r2_score = 1 - ((1-r2)*(n-1)/(n-k-1))\n",
    "\n",
    "print(f'R2-Score 1: {r2}, Adj R2-Score 1: {adj_r2_score}')"
   ]
  },
  {
   "cell_type": "markdown",
   "metadata": {},
   "source": [
    "Sekarang kita menghitung R2-Score dan Adj R2-Score setelah menambah satu kolom atribut yang tidak berpengaruh kepada target"
   ]
  },
  {
   "cell_type": "code",
   "execution_count": 28,
   "metadata": {},
   "outputs": [
    {
     "name": "stdout",
     "output_type": "stream",
     "text": [
      "R2-Score 1: 0.823102225639711, Adj R2-Score 1: 0.7936192632463296\n",
      "R2-Score 2: 0.8343508947726774, Adj R2-Score 2: 0.7680912526817484\n"
     ]
    }
   ],
   "source": [
    "# Membuat data baru dari data 1 yang ditambah kolom baru\n",
    "data_2= data_1.copy()\n",
    "data_2.insert(1, 'umur_istri_penjual', np.random.randint(30, 50, len(data_2)))\n",
    "\n",
    "# Membagi data train dan test\n",
    "X2 = data_2.drop('Harga(y)', axis='columns')\n",
    "y2 = data_2[\"Harga(y)\"].values\n",
    "\n",
    "X_train2, X_test2, y_train2, y_test2 = train_test_split(X2, y2, test_size =  0.2, random_state=3)\n",
    "\n",
    "# Regresi\n",
    "lr = LinearRegression()\n",
    "lr.fit(X_train2, y_train2)\n",
    "\n",
    "y_pred2 = lr.predict(X_test2)\n",
    "\n",
    "# Menghitung R2-Score dan Adj R2-Score\n",
    "r2_2 = r2_score(y_test2,y_pred2)\n",
    "\n",
    "n2= X2.shape[0]\n",
    "k2= X2.shape[1]\n",
    "adj_r2_2_score = 1 - ((1-r2_2)*(n2-1)/(n2-k2-1))\n",
    "\n",
    "print(f'R2-Score 1: {r2}, Adj R2-Score 1: {adj_r2_score}')\n",
    "print(f'R2-Score 2: {r2_2}, Adj R2-Score 2: {adj_r2_2_score}')"
   ]
  },
  {
   "cell_type": "markdown",
   "metadata": {},
   "source": [
    "Bisa dilihat bahwa R2-Score tetap naik pada data yang atributnya ditambah dengan data yang tidak berpengaruh pada harga, sementara pada adj R2-Score berkurang"
   ]
  },
  {
   "cell_type": "markdown",
   "metadata": {
    "id": "rQp2s0bs-O4F"
   },
   "source": [
    "### 3. Clustering"
   ]
  },
  {
   "cell_type": "markdown",
   "metadata": {},
   "source": [
    "Clustering merupakan task unsupervised learning (pembelajaran tidak terawasi) machine learning untuk mengelompokkan data menjadi beberapa cluster berdasarkan kemiripan atau algoritma tertentu"
   ]
  },
  {
   "cell_type": "code",
   "execution_count": 29,
   "metadata": {
    "colab": {
     "base_uri": "https://localhost:8080/",
     "height": 206
    },
    "id": "Va1EfA0u4VTc",
    "outputId": "f2475059-5b26-451d-bea2-05307a2e7732"
   },
   "outputs": [
    {
     "data": {
      "text/html": [
       "<div>\n",
       "<style scoped>\n",
       "    .dataframe tbody tr th:only-of-type {\n",
       "        vertical-align: middle;\n",
       "    }\n",
       "\n",
       "    .dataframe tbody tr th {\n",
       "        vertical-align: top;\n",
       "    }\n",
       "\n",
       "    .dataframe thead th {\n",
       "        text-align: right;\n",
       "    }\n",
       "</style>\n",
       "<table border=\"1\" class=\"dataframe\">\n",
       "  <thead>\n",
       "    <tr style=\"text-align: right;\">\n",
       "      <th></th>\n",
       "      <th>Sepal.Length</th>\n",
       "      <th>Sepal.Width</th>\n",
       "      <th>Petal.Length</th>\n",
       "      <th>Petal.Width</th>\n",
       "      <th>Species</th>\n",
       "    </tr>\n",
       "  </thead>\n",
       "  <tbody>\n",
       "    <tr>\n",
       "      <th>0</th>\n",
       "      <td>5.1</td>\n",
       "      <td>3.5</td>\n",
       "      <td>1.4</td>\n",
       "      <td>0.2</td>\n",
       "      <td>setosa</td>\n",
       "    </tr>\n",
       "    <tr>\n",
       "      <th>1</th>\n",
       "      <td>4.9</td>\n",
       "      <td>3.0</td>\n",
       "      <td>1.4</td>\n",
       "      <td>0.2</td>\n",
       "      <td>setosa</td>\n",
       "    </tr>\n",
       "    <tr>\n",
       "      <th>2</th>\n",
       "      <td>4.7</td>\n",
       "      <td>3.2</td>\n",
       "      <td>1.3</td>\n",
       "      <td>0.2</td>\n",
       "      <td>setosa</td>\n",
       "    </tr>\n",
       "    <tr>\n",
       "      <th>3</th>\n",
       "      <td>4.6</td>\n",
       "      <td>3.1</td>\n",
       "      <td>1.5</td>\n",
       "      <td>0.2</td>\n",
       "      <td>setosa</td>\n",
       "    </tr>\n",
       "    <tr>\n",
       "      <th>4</th>\n",
       "      <td>5.0</td>\n",
       "      <td>3.6</td>\n",
       "      <td>1.4</td>\n",
       "      <td>0.2</td>\n",
       "      <td>setosa</td>\n",
       "    </tr>\n",
       "  </tbody>\n",
       "</table>\n",
       "</div>"
      ],
      "text/plain": [
       "   Sepal.Length  Sepal.Width  Petal.Length  Petal.Width Species\n",
       "0           5.1          3.5           1.4          0.2  setosa\n",
       "1           4.9          3.0           1.4          0.2  setosa\n",
       "2           4.7          3.2           1.3          0.2  setosa\n",
       "3           4.6          3.1           1.5          0.2  setosa\n",
       "4           5.0          3.6           1.4          0.2  setosa"
      ]
     },
     "execution_count": 29,
     "metadata": {},
     "output_type": "execute_result"
    }
   ],
   "source": [
    "# Mengimport data\n",
    "df = pd.read_csv('dataset_iris.csv')\n",
    "\n",
    "#  Tampilkan 5 data pertama\n",
    "df.head()"
   ]
  },
  {
   "cell_type": "markdown",
   "metadata": {},
   "source": [
    "Karena clustering merupakan task unsupervised learning, maka kita harus menghapus/drop kolom Species yang mana merupaka target class dari dataset"
   ]
  },
  {
   "cell_type": "code",
   "execution_count": 30,
   "metadata": {
    "colab": {
     "base_uri": "https://localhost:8080/",
     "height": 206
    },
    "id": "seecFAoO4VTf",
    "outputId": "24260070-a2c2-4389-fb4e-4dec5d1cb759"
   },
   "outputs": [
    {
     "data": {
      "text/html": [
       "<div>\n",
       "<style scoped>\n",
       "    .dataframe tbody tr th:only-of-type {\n",
       "        vertical-align: middle;\n",
       "    }\n",
       "\n",
       "    .dataframe tbody tr th {\n",
       "        vertical-align: top;\n",
       "    }\n",
       "\n",
       "    .dataframe thead th {\n",
       "        text-align: right;\n",
       "    }\n",
       "</style>\n",
       "<table border=\"1\" class=\"dataframe\">\n",
       "  <thead>\n",
       "    <tr style=\"text-align: right;\">\n",
       "      <th></th>\n",
       "      <th>Sepal.Length</th>\n",
       "      <th>Sepal.Width</th>\n",
       "      <th>Petal.Length</th>\n",
       "      <th>Petal.Width</th>\n",
       "    </tr>\n",
       "  </thead>\n",
       "  <tbody>\n",
       "    <tr>\n",
       "      <th>0</th>\n",
       "      <td>5.1</td>\n",
       "      <td>3.5</td>\n",
       "      <td>1.4</td>\n",
       "      <td>0.2</td>\n",
       "    </tr>\n",
       "    <tr>\n",
       "      <th>1</th>\n",
       "      <td>4.9</td>\n",
       "      <td>3.0</td>\n",
       "      <td>1.4</td>\n",
       "      <td>0.2</td>\n",
       "    </tr>\n",
       "    <tr>\n",
       "      <th>2</th>\n",
       "      <td>4.7</td>\n",
       "      <td>3.2</td>\n",
       "      <td>1.3</td>\n",
       "      <td>0.2</td>\n",
       "    </tr>\n",
       "    <tr>\n",
       "      <th>3</th>\n",
       "      <td>4.6</td>\n",
       "      <td>3.1</td>\n",
       "      <td>1.5</td>\n",
       "      <td>0.2</td>\n",
       "    </tr>\n",
       "    <tr>\n",
       "      <th>4</th>\n",
       "      <td>5.0</td>\n",
       "      <td>3.6</td>\n",
       "      <td>1.4</td>\n",
       "      <td>0.2</td>\n",
       "    </tr>\n",
       "  </tbody>\n",
       "</table>\n",
       "</div>"
      ],
      "text/plain": [
       "   Sepal.Length  Sepal.Width  Petal.Length  Petal.Width\n",
       "0           5.1          3.5           1.4          0.2\n",
       "1           4.9          3.0           1.4          0.2\n",
       "2           4.7          3.2           1.3          0.2\n",
       "3           4.6          3.1           1.5          0.2\n",
       "4           5.0          3.6           1.4          0.2"
      ]
     },
     "execution_count": 30,
     "metadata": {},
     "output_type": "execute_result"
    }
   ],
   "source": [
    "# Menghapus atribut yang tidak digunakan\n",
    "df.drop(['Species'], axis=1, inplace=True)\n",
    "\n",
    "# Menampilkan 5 data pertama\n",
    "df.head()"
   ]
  },
  {
   "cell_type": "markdown",
   "metadata": {},
   "source": [
    "Melakukan normalisasi dengan StandardScaler() dari library scikit-learn"
   ]
  },
  {
   "cell_type": "code",
   "execution_count": 31,
   "metadata": {
    "colab": {
     "base_uri": "https://localhost:8080/"
    },
    "id": "iZhzbwt74VTh",
    "outputId": "64a88b80-cefb-4427-99c7-d45e61b1541f"
   },
   "outputs": [
    {
     "data": {
      "text/plain": [
       "(150, 4)"
      ]
     },
     "execution_count": 31,
     "metadata": {},
     "output_type": "execute_result"
    }
   ],
   "source": [
    "df_scale = df\n",
    "\n",
    "scaler = StandardScaler()\n",
    "\n",
    "# Melakukan fit dan transform pada df_scale\n",
    "df_scale = scaler.fit_transform(df_scale)\n",
    "df_scale.shape"
   ]
  },
  {
   "cell_type": "markdown",
   "metadata": {},
   "source": [
    "Menampilkan 5 data pertama pada df_scale"
   ]
  },
  {
   "cell_type": "code",
   "execution_count": 32,
   "metadata": {
    "colab": {
     "base_uri": "https://localhost:8080/"
    },
    "id": "NqfO785K4VTi",
    "outputId": "99d004ad-8155-4f9c-9911-953f6733d526"
   },
   "outputs": [
    {
     "data": {
      "text/plain": [
       "array([[-0.90068117,  1.01900435, -1.34022653, -1.3154443 ],\n",
       "       [-1.14301691, -0.13197948, -1.34022653, -1.3154443 ],\n",
       "       [-1.38535265,  0.32841405, -1.39706395, -1.3154443 ],\n",
       "       [-1.50652052,  0.09821729, -1.2833891 , -1.3154443 ],\n",
       "       [-1.02184904,  1.24920112, -1.34022653, -1.3154443 ]])"
      ]
     },
     "execution_count": 32,
     "metadata": {},
     "output_type": "execute_result"
    }
   ],
   "source": [
    "df_scale[:5]"
   ]
  },
  {
   "cell_type": "markdown",
   "metadata": {},
   "source": [
    "Menjadikan df_scale sebuah dataframe lalu membuat data_cluster darinya"
   ]
  },
  {
   "cell_type": "code",
   "execution_count": 33,
   "metadata": {
    "colab": {
     "base_uri": "https://localhost:8080/",
     "height": 206
    },
    "id": "AMdTV0kI4VTj",
    "outputId": "3e5132ca-91ee-4c59-eded-a8bbe2247d82"
   },
   "outputs": [
    {
     "data": {
      "text/html": [
       "<div>\n",
       "<style scoped>\n",
       "    .dataframe tbody tr th:only-of-type {\n",
       "        vertical-align: middle;\n",
       "    }\n",
       "\n",
       "    .dataframe tbody tr th {\n",
       "        vertical-align: top;\n",
       "    }\n",
       "\n",
       "    .dataframe thead th {\n",
       "        text-align: right;\n",
       "    }\n",
       "</style>\n",
       "<table border=\"1\" class=\"dataframe\">\n",
       "  <thead>\n",
       "    <tr style=\"text-align: right;\">\n",
       "      <th></th>\n",
       "      <th>SepalLengthCm</th>\n",
       "      <th>SepalWidthCm</th>\n",
       "      <th>PetalLengthCm</th>\n",
       "      <th>PetalWidthCm</th>\n",
       "    </tr>\n",
       "  </thead>\n",
       "  <tbody>\n",
       "    <tr>\n",
       "      <th>0</th>\n",
       "      <td>-0.900681</td>\n",
       "      <td>1.019004</td>\n",
       "      <td>-1.340227</td>\n",
       "      <td>-1.315444</td>\n",
       "    </tr>\n",
       "    <tr>\n",
       "      <th>1</th>\n",
       "      <td>-1.143017</td>\n",
       "      <td>-0.131979</td>\n",
       "      <td>-1.340227</td>\n",
       "      <td>-1.315444</td>\n",
       "    </tr>\n",
       "    <tr>\n",
       "      <th>2</th>\n",
       "      <td>-1.385353</td>\n",
       "      <td>0.328414</td>\n",
       "      <td>-1.397064</td>\n",
       "      <td>-1.315444</td>\n",
       "    </tr>\n",
       "    <tr>\n",
       "      <th>3</th>\n",
       "      <td>-1.506521</td>\n",
       "      <td>0.098217</td>\n",
       "      <td>-1.283389</td>\n",
       "      <td>-1.315444</td>\n",
       "    </tr>\n",
       "    <tr>\n",
       "      <th>4</th>\n",
       "      <td>-1.021849</td>\n",
       "      <td>1.249201</td>\n",
       "      <td>-1.340227</td>\n",
       "      <td>-1.315444</td>\n",
       "    </tr>\n",
       "  </tbody>\n",
       "</table>\n",
       "</div>"
      ],
      "text/plain": [
       "   SepalLengthCm  SepalWidthCm  PetalLengthCm  PetalWidthCm\n",
       "0      -0.900681      1.019004      -1.340227     -1.315444\n",
       "1      -1.143017     -0.131979      -1.340227     -1.315444\n",
       "2      -1.385353      0.328414      -1.397064     -1.315444\n",
       "3      -1.506521      0.098217      -1.283389     -1.315444\n",
       "4      -1.021849      1.249201      -1.340227     -1.315444"
      ]
     },
     "execution_count": 33,
     "metadata": {},
     "output_type": "execute_result"
    }
   ],
   "source": [
    "data = pd.DataFrame(df_scale)\n",
    "data.columns = ['SepalLengthCm', 'SepalWidthCm', 'PetalLengthCm', 'PetalWidthCm']\n",
    "\n",
    "data_cluster = data.copy()\n",
    "data.head()"
   ]
  },
  {
   "cell_type": "code",
   "execution_count": 34,
   "metadata": {
    "colab": {
     "base_uri": "https://localhost:8080/",
     "height": 300
    },
    "id": "vqNAFr-p4VTj",
    "outputId": "38386aa7-a81b-4a48-bebd-01d3efa66e7f"
   },
   "outputs": [
    {
     "data": {
      "text/html": [
       "<div>\n",
       "<style scoped>\n",
       "    .dataframe tbody tr th:only-of-type {\n",
       "        vertical-align: middle;\n",
       "    }\n",
       "\n",
       "    .dataframe tbody tr th {\n",
       "        vertical-align: top;\n",
       "    }\n",
       "\n",
       "    .dataframe thead th {\n",
       "        text-align: right;\n",
       "    }\n",
       "</style>\n",
       "<table border=\"1\" class=\"dataframe\">\n",
       "  <thead>\n",
       "    <tr style=\"text-align: right;\">\n",
       "      <th></th>\n",
       "      <th>SepalLengthCm</th>\n",
       "      <th>SepalWidthCm</th>\n",
       "      <th>PetalLengthCm</th>\n",
       "      <th>PetalWidthCm</th>\n",
       "    </tr>\n",
       "  </thead>\n",
       "  <tbody>\n",
       "    <tr>\n",
       "      <th>count</th>\n",
       "      <td>1.500000e+02</td>\n",
       "      <td>1.500000e+02</td>\n",
       "      <td>1.500000e+02</td>\n",
       "      <td>1.500000e+02</td>\n",
       "    </tr>\n",
       "    <tr>\n",
       "      <th>mean</th>\n",
       "      <td>-4.736952e-16</td>\n",
       "      <td>-7.815970e-16</td>\n",
       "      <td>-4.263256e-16</td>\n",
       "      <td>-4.736952e-16</td>\n",
       "    </tr>\n",
       "    <tr>\n",
       "      <th>std</th>\n",
       "      <td>1.003350e+00</td>\n",
       "      <td>1.003350e+00</td>\n",
       "      <td>1.003350e+00</td>\n",
       "      <td>1.003350e+00</td>\n",
       "    </tr>\n",
       "    <tr>\n",
       "      <th>min</th>\n",
       "      <td>-1.870024e+00</td>\n",
       "      <td>-2.433947e+00</td>\n",
       "      <td>-1.567576e+00</td>\n",
       "      <td>-1.447076e+00</td>\n",
       "    </tr>\n",
       "    <tr>\n",
       "      <th>25%</th>\n",
       "      <td>-9.006812e-01</td>\n",
       "      <td>-5.923730e-01</td>\n",
       "      <td>-1.226552e+00</td>\n",
       "      <td>-1.183812e+00</td>\n",
       "    </tr>\n",
       "    <tr>\n",
       "      <th>50%</th>\n",
       "      <td>-5.250608e-02</td>\n",
       "      <td>-1.319795e-01</td>\n",
       "      <td>3.364776e-01</td>\n",
       "      <td>1.325097e-01</td>\n",
       "    </tr>\n",
       "    <tr>\n",
       "      <th>75%</th>\n",
       "      <td>6.745011e-01</td>\n",
       "      <td>5.586108e-01</td>\n",
       "      <td>7.627583e-01</td>\n",
       "      <td>7.906707e-01</td>\n",
       "    </tr>\n",
       "    <tr>\n",
       "      <th>max</th>\n",
       "      <td>2.492019e+00</td>\n",
       "      <td>3.090775e+00</td>\n",
       "      <td>1.785832e+00</td>\n",
       "      <td>1.712096e+00</td>\n",
       "    </tr>\n",
       "  </tbody>\n",
       "</table>\n",
       "</div>"
      ],
      "text/plain": [
       "       SepalLengthCm  SepalWidthCm  PetalLengthCm  PetalWidthCm\n",
       "count   1.500000e+02  1.500000e+02   1.500000e+02  1.500000e+02\n",
       "mean   -4.736952e-16 -7.815970e-16  -4.263256e-16 -4.736952e-16\n",
       "std     1.003350e+00  1.003350e+00   1.003350e+00  1.003350e+00\n",
       "min    -1.870024e+00 -2.433947e+00  -1.567576e+00 -1.447076e+00\n",
       "25%    -9.006812e-01 -5.923730e-01  -1.226552e+00 -1.183812e+00\n",
       "50%    -5.250608e-02 -1.319795e-01   3.364776e-01  1.325097e-01\n",
       "75%     6.745011e-01  5.586108e-01   7.627583e-01  7.906707e-01\n",
       "max     2.492019e+00  3.090775e+00   1.785832e+00  1.712096e+00"
      ]
     },
     "execution_count": 34,
     "metadata": {},
     "output_type": "execute_result"
    }
   ],
   "source": [
    "data.describe()"
   ]
  },
  {
   "cell_type": "markdown",
   "metadata": {
    "id": "8QKLTjdB4VTm"
   },
   "source": [
    "#### 1. Elbow Method"
   ]
  },
  {
   "cell_type": "markdown",
   "metadata": {},
   "source": [
    "Dalam beberapa algoritma / metode clustering seperti k-means atau kmodes, kita perlu menentukan n_cluster atau seberapa banyak cluster pada data, untuk mendapatkan n_cluster ideal kita dapat menggunakan elbow method.\n",
    "\n",
    "Cara mendapatkan n_cluster yang ideal dari elbow method adalah dengan melakukan clustering n-1 kali dengan n_cluster dari 1 sampai n (idealnya 10) lalu mem-plot inersia nya. Selanjutnya melihat hasil plot, kita menentukan n_cluster ideal pada titik dengan belokan tertajam (titik yang terlihat seperti elbow/siku pada plot)"
   ]
  },
  {
   "cell_type": "code",
   "execution_count": 35,
   "metadata": {
    "colab": {
     "base_uri": "https://localhost:8080/",
     "height": 319
    },
    "id": "5bzm5gV84VTm",
    "outputId": "3aa49475-ca49-444f-a509-ead1dda48ac8"
   },
   "outputs": [
    {
     "data": {
      "text/plain": [
       "Text(0, 0.5, 'Inertia')"
      ]
     },
     "execution_count": 35,
     "metadata": {},
     "output_type": "execute_result"
    },
    {
     "data": {
      "image/png": "[encoded data removed]",
      "text/plain": [
       "<Figure size 576x288 with 1 Axes>"
      ]
     },
     "metadata": {},
     "output_type": "display_data"
    }
   ],
   "source": [
    "# Membuat list inertia\n",
    "clusters = []\n",
    "for i in range (1,11):\n",
    "    km = KMeans(n_clusters=i).fit(data)\n",
    "    clusters.append(km.inertia_)\n",
    "\n",
    "# Menampilkan plot\n",
    "fig, ax = plt.subplots(figsize=(8,4))\n",
    "sns.lineplot(x=list(range(1,11)), y=clusters, ax=ax)\n",
    "ax.set_title('Elbow')\n",
    "ax.set_xlabel('Clusters')\n",
    "ax.set_ylabel('Inertia')"
   ]
  },
  {
   "cell_type": "markdown",
   "metadata": {},
   "source": [
    "Pada plot di atas kita mendapatkan siku atau elbow pada titik 2, 3, dan 4. Kita akan memilih 3 dan 4 sebagai n_cluster lalu melakukan clustering dengan metode K-Means"
   ]
  },
  {
   "cell_type": "code",
   "execution_count": 36,
   "metadata": {
    "colab": {
     "base_uri": "https://localhost:8080/",
     "height": 424
    },
    "id": "0a9bSMZH4VTn",
    "outputId": "1bca7fd7-12ce-424d-d527-3cafbc978ae6"
   },
   "outputs": [
    {
     "data": {
      "text/html": [
       "<div>\n",
       "<style scoped>\n",
       "    .dataframe tbody tr th:only-of-type {\n",
       "        vertical-align: middle;\n",
       "    }\n",
       "\n",
       "    .dataframe tbody tr th {\n",
       "        vertical-align: top;\n",
       "    }\n",
       "\n",
       "    .dataframe thead th {\n",
       "        text-align: right;\n",
       "    }\n",
       "</style>\n",
       "<table border=\"1\" class=\"dataframe\">\n",
       "  <thead>\n",
       "    <tr style=\"text-align: right;\">\n",
       "      <th></th>\n",
       "      <th>SepalLengthCm</th>\n",
       "      <th>SepalWidthCm</th>\n",
       "      <th>PetalLengthCm</th>\n",
       "      <th>PetalWidthCm</th>\n",
       "      <th>cluster_kmeans3</th>\n",
       "      <th>cluster_kmeans4</th>\n",
       "    </tr>\n",
       "  </thead>\n",
       "  <tbody>\n",
       "    <tr>\n",
       "      <th>0</th>\n",
       "      <td>-0.900681</td>\n",
       "      <td>1.019004</td>\n",
       "      <td>-1.340227</td>\n",
       "      <td>-1.315444</td>\n",
       "      <td>0</td>\n",
       "      <td>3</td>\n",
       "    </tr>\n",
       "    <tr>\n",
       "      <th>1</th>\n",
       "      <td>-1.143017</td>\n",
       "      <td>-0.131979</td>\n",
       "      <td>-1.340227</td>\n",
       "      <td>-1.315444</td>\n",
       "      <td>0</td>\n",
       "      <td>1</td>\n",
       "    </tr>\n",
       "    <tr>\n",
       "      <th>2</th>\n",
       "      <td>-1.385353</td>\n",
       "      <td>0.328414</td>\n",
       "      <td>-1.397064</td>\n",
       "      <td>-1.315444</td>\n",
       "      <td>0</td>\n",
       "      <td>1</td>\n",
       "    </tr>\n",
       "    <tr>\n",
       "      <th>3</th>\n",
       "      <td>-1.506521</td>\n",
       "      <td>0.098217</td>\n",
       "      <td>-1.283389</td>\n",
       "      <td>-1.315444</td>\n",
       "      <td>0</td>\n",
       "      <td>1</td>\n",
       "    </tr>\n",
       "    <tr>\n",
       "      <th>4</th>\n",
       "      <td>-1.021849</td>\n",
       "      <td>1.249201</td>\n",
       "      <td>-1.340227</td>\n",
       "      <td>-1.315444</td>\n",
       "      <td>0</td>\n",
       "      <td>3</td>\n",
       "    </tr>\n",
       "    <tr>\n",
       "      <th>...</th>\n",
       "      <td>...</td>\n",
       "      <td>...</td>\n",
       "      <td>...</td>\n",
       "      <td>...</td>\n",
       "      <td>...</td>\n",
       "      <td>...</td>\n",
       "    </tr>\n",
       "    <tr>\n",
       "      <th>145</th>\n",
       "      <td>1.038005</td>\n",
       "      <td>-0.131979</td>\n",
       "      <td>0.819596</td>\n",
       "      <td>1.448832</td>\n",
       "      <td>2</td>\n",
       "      <td>0</td>\n",
       "    </tr>\n",
       "    <tr>\n",
       "      <th>146</th>\n",
       "      <td>0.553333</td>\n",
       "      <td>-1.282963</td>\n",
       "      <td>0.705921</td>\n",
       "      <td>0.922303</td>\n",
       "      <td>1</td>\n",
       "      <td>2</td>\n",
       "    </tr>\n",
       "    <tr>\n",
       "      <th>147</th>\n",
       "      <td>0.795669</td>\n",
       "      <td>-0.131979</td>\n",
       "      <td>0.819596</td>\n",
       "      <td>1.053935</td>\n",
       "      <td>2</td>\n",
       "      <td>0</td>\n",
       "    </tr>\n",
       "    <tr>\n",
       "      <th>148</th>\n",
       "      <td>0.432165</td>\n",
       "      <td>0.788808</td>\n",
       "      <td>0.933271</td>\n",
       "      <td>1.448832</td>\n",
       "      <td>2</td>\n",
       "      <td>0</td>\n",
       "    </tr>\n",
       "    <tr>\n",
       "      <th>149</th>\n",
       "      <td>0.068662</td>\n",
       "      <td>-0.131979</td>\n",
       "      <td>0.762758</td>\n",
       "      <td>0.790671</td>\n",
       "      <td>1</td>\n",
       "      <td>2</td>\n",
       "    </tr>\n",
       "  </tbody>\n",
       "</table>\n",
       "<p>150 rows × 6 columns</p>\n",
       "</div>"
      ],
      "text/plain": [
       "     SepalLengthCm  SepalWidthCm  PetalLengthCm  PetalWidthCm  \\\n",
       "0        -0.900681      1.019004      -1.340227     -1.315444   \n",
       "1        -1.143017     -0.131979      -1.340227     -1.315444   \n",
       "2        -1.385353      0.328414      -1.397064     -1.315444   \n",
       "3        -1.506521      0.098217      -1.283389     -1.315444   \n",
       "4        -1.021849      1.249201      -1.340227     -1.315444   \n",
       "..             ...           ...            ...           ...   \n",
       "145       1.038005     -0.131979       0.819596      1.448832   \n",
       "146       0.553333     -1.282963       0.705921      0.922303   \n",
       "147       0.795669     -0.131979       0.819596      1.053935   \n",
       "148       0.432165      0.788808       0.933271      1.448832   \n",
       "149       0.068662     -0.131979       0.762758      0.790671   \n",
       "\n",
       "     cluster_kmeans3  cluster_kmeans4  \n",
       "0                  0                3  \n",
       "1                  0                1  \n",
       "2                  0                1  \n",
       "3                  0                1  \n",
       "4                  0                3  \n",
       "..               ...              ...  \n",
       "145                2                0  \n",
       "146                1                2  \n",
       "147                2                0  \n",
       "148                2                0  \n",
       "149                1                2  \n",
       "\n",
       "[150 rows x 6 columns]"
      ]
     },
     "execution_count": 36,
     "metadata": {},
     "output_type": "execute_result"
    }
   ],
   "source": [
    "## Melatih model\n",
    "# Create Model\n",
    "model_kmeans3 = KMeans(n_clusters=3)\n",
    "model_kmeans4 = KMeans(n_clusters=4)\n",
    "\n",
    "# Train Model\n",
    "model_kmeans3.fit(data)\n",
    "model_kmeans4.fit(data)\n",
    "\n",
    "# Menambah Label pada data\n",
    "data_cluster['cluster_kmeans3'] = model_kmeans3.labels_\n",
    "data_cluster['cluster_kmeans4'] = model_kmeans4.labels_\n",
    "\n",
    "data_cluster"
   ]
  },
  {
   "cell_type": "markdown",
   "metadata": {},
   "source": [
    "Menampilkan hasil clustering melalui scatter plot"
   ]
  },
  {
   "cell_type": "code",
   "execution_count": 37,
   "metadata": {
    "colab": {
     "base_uri": "https://localhost:8080/",
     "height": 678
    },
    "id": "nTv7MMsB4VTo",
    "outputId": "908bb5f6-90fc-4398-b9e2-e46f3d1570eb"
   },
   "outputs": [
    {
     "name": "stderr",
     "output_type": "stream",
     "text": [
      "c:\\users\\lenovo\\pycharmprojects\\data science\\venv\\lib\\site-packages\\seaborn\\_decorators.py:43: FutureWarning: Pass the following variables as keyword args: x, y. From version 0.12, the only valid positional argument will be `data`, and passing other arguments without an explicit keyword will result in an error or misinterpretation.\n",
      "  FutureWarning\n",
      "c:\\users\\lenovo\\pycharmprojects\\data science\\venv\\lib\\site-packages\\seaborn\\_decorators.py:43: FutureWarning: Pass the following variables as keyword args: x, y. From version 0.12, the only valid positional argument will be `data`, and passing other arguments without an explicit keyword will result in an error or misinterpretation.\n",
      "  FutureWarning\n"
     ]
    },
    {
     "data": {
      "image/png": "[encoded data removed]",
      "text/plain": [
       "<Figure size 576x288 with 1 Axes>"
      ]
     },
     "metadata": {},
     "output_type": "display_data"
    },
    {
     "data": {
      "image/png": "[encoded data removed]",
      "text/plain": [
       "<Figure size 576x288 with 1 Axes>"
      ]
     },
     "metadata": {},
     "output_type": "display_data"
    }
   ],
   "source": [
    "## Tampilkan Plot\n",
    "plt.figure(figsize=(8,4))\n",
    "sns.scatterplot(data_cluster['SepalWidthCm'], data_cluster['SepalLengthCm'], hue=data_cluster['cluster_kmeans3'], palette=sns.color_palette('hls',3))\n",
    "plt.title(' KMeans 3 cluster')\n",
    "\n",
    "plt.figure(figsize=(8,4))\n",
    "sns.scatterplot(data_cluster['SepalWidthCm'], data_cluster['SepalLengthCm'], hue=data_cluster['cluster_kmeans4'], palette=sns.color_palette('hls',4))\n",
    "plt.title(' KMeans 4 cluster')\n",
    "plt.show()"
   ]
  },
  {
   "cell_type": "markdown",
   "metadata": {
    "id": "vKUoPo9H-l2i"
   },
   "source": [
    "#### 2. Silhouette Score / Silhouette Distance"
   ]
  },
  {
   "cell_type": "markdown",
   "metadata": {},
   "source": [
    "Silhouette Score adalah metrik yang digunakan untuk mengevaluasi model clustering, bisa juga untuk menentukan n_cluster. \n",
    "\n",
    "Nilai silhoette score berkisar dari -1 hingga 1. \n",
    "* 1: Cluster terpisah satu sama lain dan model clustering dibuat dengan baik\n",
    "* 0: Jarak satu cluster dari cluster lain tidak signifikan\n",
    "* -1: Di antara cluster tidak ada batas yang jelas, ini berarti model clustering nya salah"
   ]
  },
  {
   "cell_type": "markdown",
   "metadata": {},
   "source": [
    "Mencari silhouette score dari model clustering kmeans untuk n_cluster 2, 3 dan 4"
   ]
  },
  {
   "cell_type": "code",
   "execution_count": 38,
   "metadata": {
    "colab": {
     "base_uri": "https://localhost:8080/"
    },
    "id": "zxJqBfWCEIKg",
    "outputId": "0cbdc834-d45f-4c9e-82e6-9908bfc6074e"
   },
   "outputs": [
    {
     "name": "stdout",
     "output_type": "stream",
     "text": [
      "Silhouette Score for k =  2 is 0.5397787397787398\n",
      "Silhouette Score for k =  3 is 0.44479166666666664\n",
      "Silhouette Score for k =  4 is 0.24166666666666664\n"
     ]
    }
   ],
   "source": [
    "silhouette_scores = []\n",
    "\n",
    "for k in range(2, 5):\n",
    "    model2 = KMeans(n_clusters=k, random_state=42)\n",
    "    model2.fit(X)\n",
    "    score = silhouette_score(X, model2.labels_)\n",
    "    print(\"Silhouette Score for k = \", k, \"is\", score)\n",
    "    silhouette_scores.append(score)"
   ]
  },
  {
   "cell_type": "markdown",
   "metadata": {},
   "source": [
    "Mem-plot silhouette score n_cluster 2, 3, dan 4"
   ]
  },
  {
   "cell_type": "code",
   "execution_count": 39,
   "metadata": {
    "colab": {
     "base_uri": "https://localhost:8080/",
     "height": 285
    },
    "id": "oMiDpe8ZJImC",
    "outputId": "395b457b-ab2f-4368-da06-f59edb4c580e"
   },
   "outputs": [
    {
     "data": {
      "image/png": "[encoded data removed]",
      "text/plain": [
       "<Figure size 432x288 with 1 Axes>"
      ]
     },
     "metadata": {},
     "output_type": "display_data"
    }
   ],
   "source": [
    "plt.plot(range(2, 5), silhouette_scores, marker='o')\n",
    "plt.xlabel('Number of clusters (K)')\n",
    "plt.ylabel('Silhouette score')\n",
    "plt.savefig('silhouette plot.png')"
   ]
  }
 ],
 "metadata": {
  "colab": {
   "collapsed_sections": [],
   "name": "Data Mining Pertemuan 6.ipynb",
   "provenance": []
  },
  "kernelspec": {
   "display_name": "Python 3 (ipykernel)",
   "language": "python",
   "name": "python3"
  },
  "language_info": {
   "codemirror_mode": {
    "name": "ipython",
    "version": 3
   },
   "file_extension": ".py",
   "mimetype": "text/x-python",
   "name": "python",
   "nbconvert_exporter": "python",
   "pygments_lexer": "ipython3",
   "version": "3.7.7"
  }
 },
 "nbformat": 4,
 "nbformat_minor": 1
}
