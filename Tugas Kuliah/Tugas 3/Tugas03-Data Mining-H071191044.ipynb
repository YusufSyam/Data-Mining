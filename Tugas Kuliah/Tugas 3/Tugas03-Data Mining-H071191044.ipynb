{
 "cells": [
  {
   "cell_type": "markdown",
   "id": "c0c54890",
   "metadata": {},
   "source": [
    "## Tugas Data Mining 3\n",
    "<br>\n",
    "Nama: Muh. Yusuf Syam\n",
    "<br>\n",
    "NIM: H071191044"
   ]
  },
  {
   "cell_type": "markdown",
   "id": "1af71962",
   "metadata": {},
   "source": [
    "<h3> Google Colab Link: </h3>\n",
    "<br>\n",
    "<a href=\"https://colab.research.google.com/drive/1nSiEOSiVcReyb9Z6tmzLruWlqrU3SDFX?usp=sharing\" target=\"_parent\"><img src=\"https://colab.research.google.com/assets/colab-badge.svg\" alt=\"Open In Colab\"/></a>"
   ]
  },
  {
   "cell_type": "code",
   "execution_count": 1,
   "id": "1615b612",
   "metadata": {},
   "outputs": [],
   "source": [
    "# Import modul yang dibutuhkan\n",
    "\n",
    "import pandas as pd\n",
    "import numpy as np\n",
    "\n",
    "from sklearn import tree\n",
    "from sklearn.naive_bayes import GaussianNB\n",
    "from sklearn.model_selection import train_test_split\n",
    "from sklearn.preprocessing import LabelEncoder\n",
    "from sklearn.metrics import confusion_matrix\n",
    "\n",
    "from matplotlib import pyplot as plt\n",
    "\n",
    "from sklearn.datasets import make_classification\n",
    "from imblearn.over_sampling import RandomOverSampler\n",
    "from imblearn.under_sampling import RandomUnderSampler\n",
    "from collections import Counter"
   ]
  },
  {
   "cell_type": "markdown",
   "id": "9abbcaad",
   "metadata": {},
   "source": [
    "## Import dataset titanic\n",
    "\n",
    "Penjelasan: Dataset yang diimport adalah dataset yang terdiri dari 3 atribut dan 1 label. Di mana 3 attributnya adalah pclass, sex, dan age. Sementara labelnya adalah survived.\n",
    "\n",
    "#### Penjelasan kolom:\n",
    "* pclass: kelas penumpang, di mana kelas 1 merupakan yang tertinggi sedangkan kelas 3 adalah yang terendah\n",
    "* sex: jenis kelamin penumpang\n",
    "* age: umur para penumpang\n",
    "* survived: apakah penumpang tersebut selamat atau tidak, 1 jika selamat dan 0 jika tidak"
   ]
  },
  {
   "cell_type": "code",
   "execution_count": 3,
   "id": "520989b5",
   "metadata": {},
   "outputs": [
    {
     "data": {
      "text/html": [
       "<div>\n",
       "<style scoped>\n",
       "    .dataframe tbody tr th:only-of-type {\n",
       "        vertical-align: middle;\n",
       "    }\n",
       "\n",
       "    .dataframe tbody tr th {\n",
       "        vertical-align: top;\n",
       "    }\n",
       "\n",
       "    .dataframe thead th {\n",
       "        text-align: right;\n",
       "    }\n",
       "</style>\n",
       "<table border=\"1\" class=\"dataframe\">\n",
       "  <thead>\n",
       "    <tr style=\"text-align: right;\">\n",
       "      <th></th>\n",
       "      <th>pclass</th>\n",
       "      <th>sex</th>\n",
       "      <th>age</th>\n",
       "      <th>survived</th>\n",
       "    </tr>\n",
       "  </thead>\n",
       "  <tbody>\n",
       "    <tr>\n",
       "      <th>0</th>\n",
       "      <td>3</td>\n",
       "      <td>male</td>\n",
       "      <td>22.0</td>\n",
       "      <td>0</td>\n",
       "    </tr>\n",
       "    <tr>\n",
       "      <th>1</th>\n",
       "      <td>1</td>\n",
       "      <td>female</td>\n",
       "      <td>38.0</td>\n",
       "      <td>1</td>\n",
       "    </tr>\n",
       "    <tr>\n",
       "      <th>2</th>\n",
       "      <td>3</td>\n",
       "      <td>female</td>\n",
       "      <td>26.0</td>\n",
       "      <td>1</td>\n",
       "    </tr>\n",
       "    <tr>\n",
       "      <th>3</th>\n",
       "      <td>1</td>\n",
       "      <td>female</td>\n",
       "      <td>35.0</td>\n",
       "      <td>1</td>\n",
       "    </tr>\n",
       "    <tr>\n",
       "      <th>4</th>\n",
       "      <td>3</td>\n",
       "      <td>male</td>\n",
       "      <td>35.0</td>\n",
       "      <td>0</td>\n",
       "    </tr>\n",
       "  </tbody>\n",
       "</table>\n",
       "</div>"
      ],
      "text/plain": [
       "   pclass     sex   age  survived\n",
       "0       3    male  22.0         0\n",
       "1       1  female  38.0         1\n",
       "2       3  female  26.0         1\n",
       "3       1  female  35.0         1\n",
       "4       3    male  35.0         0"
      ]
     },
     "execution_count": 3,
     "metadata": {},
     "output_type": "execute_result"
    }
   ],
   "source": [
    "# Mengimport data\n",
    "\n",
    "data= pd.read_csv('titanic_data_set.csv')[['pclass', 'sex', 'age', 'survived']]\n",
    "data.head()"
   ]
  },
  {
   "cell_type": "markdown",
   "id": "558a02a7",
   "metadata": {},
   "source": [
    "Mengecek dtype masing-masing kolom"
   ]
  },
  {
   "cell_type": "code",
   "execution_count": 4,
   "id": "20660629",
   "metadata": {},
   "outputs": [
    {
     "name": "stdout",
     "output_type": "stream",
     "text": [
      "pclass bertipe data int64\n",
      "sex bertipe data object\n",
      "age bertipe data float64\n",
      "survived bertipe data int64\n"
     ]
    }
   ],
   "source": [
    "for i in data.columns:\n",
    "    print(f\"{i} bertipe data {data[i].dtypes}\")"
   ]
  },
  {
   "cell_type": "markdown",
   "id": "d75dc1d7",
   "metadata": {},
   "source": [
    "## Handle Missing Value"
   ]
  },
  {
   "cell_type": "code",
   "execution_count": 5,
   "id": "469a6619",
   "metadata": {
    "scrolled": true
   },
   "outputs": [
    {
     "data": {
      "text/plain": [
       "pclass        0\n",
       "sex           0\n",
       "age         177\n",
       "survived      0\n",
       "dtype: int64"
      ]
     },
     "execution_count": 5,
     "metadata": {},
     "output_type": "execute_result"
    }
   ],
   "source": [
    "# Mengecek apakah data mempunyai nilai NaN\n",
    "data.isna().sum()"
   ]
  },
  {
   "cell_type": "code",
   "execution_count": 6,
   "id": "8770a6f8",
   "metadata": {},
   "outputs": [
    {
     "data": {
      "text/plain": [
       "pclass      0\n",
       "sex         0\n",
       "age         0\n",
       "survived    0\n",
       "dtype: int64"
      ]
     },
     "execution_count": 6,
     "metadata": {},
     "output_type": "execute_result"
    }
   ],
   "source": [
    "# Mengisi data age yang NaN dengan mean\n",
    "data['age'].fillna(data['age'].mean(), inplace=True)\n",
    "\n",
    "data.isna().sum()"
   ]
  },
  {
   "cell_type": "markdown",
   "id": "d2cd429f",
   "metadata": {},
   "source": [
    "## Categorical encoding using Label-Encoding and One-Hot-Encoder"
   ]
  },
  {
   "cell_type": "markdown",
   "id": "f3f72d74",
   "metadata": {},
   "source": [
    "1. One Hot Encoding"
   ]
  },
  {
   "cell_type": "code",
   "execution_count": 7,
   "id": "687d5da4",
   "metadata": {},
   "outputs": [
    {
     "data": {
      "text/html": [
       "<div>\n",
       "<style scoped>\n",
       "    .dataframe tbody tr th:only-of-type {\n",
       "        vertical-align: middle;\n",
       "    }\n",
       "\n",
       "    .dataframe tbody tr th {\n",
       "        vertical-align: top;\n",
       "    }\n",
       "\n",
       "    .dataframe thead th {\n",
       "        text-align: right;\n",
       "    }\n",
       "</style>\n",
       "<table border=\"1\" class=\"dataframe\">\n",
       "  <thead>\n",
       "    <tr style=\"text-align: right;\">\n",
       "      <th></th>\n",
       "      <th>pclass</th>\n",
       "      <th>sex</th>\n",
       "      <th>age</th>\n",
       "      <th>survived_0</th>\n",
       "      <th>survived_1</th>\n",
       "    </tr>\n",
       "  </thead>\n",
       "  <tbody>\n",
       "    <tr>\n",
       "      <th>0</th>\n",
       "      <td>3</td>\n",
       "      <td>male</td>\n",
       "      <td>22.000000</td>\n",
       "      <td>1</td>\n",
       "      <td>0</td>\n",
       "    </tr>\n",
       "    <tr>\n",
       "      <th>1</th>\n",
       "      <td>1</td>\n",
       "      <td>female</td>\n",
       "      <td>38.000000</td>\n",
       "      <td>0</td>\n",
       "      <td>1</td>\n",
       "    </tr>\n",
       "    <tr>\n",
       "      <th>2</th>\n",
       "      <td>3</td>\n",
       "      <td>female</td>\n",
       "      <td>26.000000</td>\n",
       "      <td>0</td>\n",
       "      <td>1</td>\n",
       "    </tr>\n",
       "    <tr>\n",
       "      <th>3</th>\n",
       "      <td>1</td>\n",
       "      <td>female</td>\n",
       "      <td>35.000000</td>\n",
       "      <td>0</td>\n",
       "      <td>1</td>\n",
       "    </tr>\n",
       "    <tr>\n",
       "      <th>4</th>\n",
       "      <td>3</td>\n",
       "      <td>male</td>\n",
       "      <td>35.000000</td>\n",
       "      <td>1</td>\n",
       "      <td>0</td>\n",
       "    </tr>\n",
       "    <tr>\n",
       "      <th>...</th>\n",
       "      <td>...</td>\n",
       "      <td>...</td>\n",
       "      <td>...</td>\n",
       "      <td>...</td>\n",
       "      <td>...</td>\n",
       "    </tr>\n",
       "    <tr>\n",
       "      <th>886</th>\n",
       "      <td>2</td>\n",
       "      <td>male</td>\n",
       "      <td>27.000000</td>\n",
       "      <td>1</td>\n",
       "      <td>0</td>\n",
       "    </tr>\n",
       "    <tr>\n",
       "      <th>887</th>\n",
       "      <td>1</td>\n",
       "      <td>female</td>\n",
       "      <td>19.000000</td>\n",
       "      <td>0</td>\n",
       "      <td>1</td>\n",
       "    </tr>\n",
       "    <tr>\n",
       "      <th>888</th>\n",
       "      <td>3</td>\n",
       "      <td>female</td>\n",
       "      <td>29.699118</td>\n",
       "      <td>1</td>\n",
       "      <td>0</td>\n",
       "    </tr>\n",
       "    <tr>\n",
       "      <th>889</th>\n",
       "      <td>1</td>\n",
       "      <td>male</td>\n",
       "      <td>26.000000</td>\n",
       "      <td>0</td>\n",
       "      <td>1</td>\n",
       "    </tr>\n",
       "    <tr>\n",
       "      <th>890</th>\n",
       "      <td>3</td>\n",
       "      <td>male</td>\n",
       "      <td>32.000000</td>\n",
       "      <td>1</td>\n",
       "      <td>0</td>\n",
       "    </tr>\n",
       "  </tbody>\n",
       "</table>\n",
       "<p>891 rows × 5 columns</p>\n",
       "</div>"
      ],
      "text/plain": [
       "     pclass     sex        age  survived_0  survived_1\n",
       "0         3    male  22.000000           1           0\n",
       "1         1  female  38.000000           0           1\n",
       "2         3  female  26.000000           0           1\n",
       "3         1  female  35.000000           0           1\n",
       "4         3    male  35.000000           1           0\n",
       "..      ...     ...        ...         ...         ...\n",
       "886       2    male  27.000000           1           0\n",
       "887       1  female  19.000000           0           1\n",
       "888       3  female  29.699118           1           0\n",
       "889       1    male  26.000000           0           1\n",
       "890       3    male  32.000000           1           0\n",
       "\n",
       "[891 rows x 5 columns]"
      ]
     },
     "execution_count": 7,
     "metadata": {},
     "output_type": "execute_result"
    }
   ],
   "source": [
    "one_hot_encoded_data = pd.get_dummies(data, columns = [\"survived\"])\n",
    "one_hot_encoded_data"
   ]
  },
  {
   "cell_type": "markdown",
   "id": "981148b8",
   "metadata": {},
   "source": [
    "2. Label Encoding"
   ]
  },
  {
   "cell_type": "code",
   "execution_count": 8,
   "id": "eaccb48c",
   "metadata": {},
   "outputs": [
    {
     "data": {
      "text/html": [
       "<div>\n",
       "<style scoped>\n",
       "    .dataframe tbody tr th:only-of-type {\n",
       "        vertical-align: middle;\n",
       "    }\n",
       "\n",
       "    .dataframe tbody tr th {\n",
       "        vertical-align: top;\n",
       "    }\n",
       "\n",
       "    .dataframe thead th {\n",
       "        text-align: right;\n",
       "    }\n",
       "</style>\n",
       "<table border=\"1\" class=\"dataframe\">\n",
       "  <thead>\n",
       "    <tr style=\"text-align: right;\">\n",
       "      <th></th>\n",
       "      <th>pclass</th>\n",
       "      <th>sex</th>\n",
       "      <th>age</th>\n",
       "      <th>survived</th>\n",
       "    </tr>\n",
       "  </thead>\n",
       "  <tbody>\n",
       "    <tr>\n",
       "      <th>0</th>\n",
       "      <td>2</td>\n",
       "      <td>1</td>\n",
       "      <td>28</td>\n",
       "      <td>0</td>\n",
       "    </tr>\n",
       "    <tr>\n",
       "      <th>1</th>\n",
       "      <td>0</td>\n",
       "      <td>0</td>\n",
       "      <td>52</td>\n",
       "      <td>1</td>\n",
       "    </tr>\n",
       "    <tr>\n",
       "      <th>2</th>\n",
       "      <td>2</td>\n",
       "      <td>0</td>\n",
       "      <td>34</td>\n",
       "      <td>1</td>\n",
       "    </tr>\n",
       "    <tr>\n",
       "      <th>3</th>\n",
       "      <td>0</td>\n",
       "      <td>0</td>\n",
       "      <td>48</td>\n",
       "      <td>1</td>\n",
       "    </tr>\n",
       "    <tr>\n",
       "      <th>4</th>\n",
       "      <td>2</td>\n",
       "      <td>1</td>\n",
       "      <td>48</td>\n",
       "      <td>0</td>\n",
       "    </tr>\n",
       "    <tr>\n",
       "      <th>...</th>\n",
       "      <td>...</td>\n",
       "      <td>...</td>\n",
       "      <td>...</td>\n",
       "      <td>...</td>\n",
       "    </tr>\n",
       "    <tr>\n",
       "      <th>886</th>\n",
       "      <td>1</td>\n",
       "      <td>1</td>\n",
       "      <td>35</td>\n",
       "      <td>0</td>\n",
       "    </tr>\n",
       "    <tr>\n",
       "      <th>887</th>\n",
       "      <td>0</td>\n",
       "      <td>0</td>\n",
       "      <td>24</td>\n",
       "      <td>1</td>\n",
       "    </tr>\n",
       "    <tr>\n",
       "      <th>888</th>\n",
       "      <td>2</td>\n",
       "      <td>0</td>\n",
       "      <td>39</td>\n",
       "      <td>0</td>\n",
       "    </tr>\n",
       "    <tr>\n",
       "      <th>889</th>\n",
       "      <td>0</td>\n",
       "      <td>1</td>\n",
       "      <td>34</td>\n",
       "      <td>1</td>\n",
       "    </tr>\n",
       "    <tr>\n",
       "      <th>890</th>\n",
       "      <td>2</td>\n",
       "      <td>1</td>\n",
       "      <td>43</td>\n",
       "      <td>0</td>\n",
       "    </tr>\n",
       "  </tbody>\n",
       "</table>\n",
       "<p>891 rows × 4 columns</p>\n",
       "</div>"
      ],
      "text/plain": [
       "     pclass  sex  age  survived\n",
       "0         2    1   28         0\n",
       "1         0    0   52         1\n",
       "2         2    0   34         1\n",
       "3         0    0   48         1\n",
       "4         2    1   48         0\n",
       "..      ...  ...  ...       ...\n",
       "886       1    1   35         0\n",
       "887       0    0   24         1\n",
       "888       2    0   39         0\n",
       "889       0    1   34         1\n",
       "890       2    1   43         0\n",
       "\n",
       "[891 rows x 4 columns]"
      ]
     },
     "execution_count": 8,
     "metadata": {},
     "output_type": "execute_result"
    }
   ],
   "source": [
    "# Encode label\n",
    "Le= LabelEncoder()\n",
    "\n",
    "for i in data.columns: \n",
    "    data[i]= Le.fit_transform(data[i])\n",
    "    \n",
    "data"
   ]
  },
  {
   "cell_type": "markdown",
   "id": "9c65bb01",
   "metadata": {},
   "source": [
    "## Normalization"
   ]
  },
  {
   "cell_type": "markdown",
   "id": "6ee0aedd",
   "metadata": {},
   "source": [
    "1. Z-score"
   ]
  },
  {
   "cell_type": "code",
   "execution_count": 9,
   "id": "87f0e72a",
   "metadata": {},
   "outputs": [
    {
     "data": {
      "text/html": [
       "<div>\n",
       "<style scoped>\n",
       "    .dataframe tbody tr th:only-of-type {\n",
       "        vertical-align: middle;\n",
       "    }\n",
       "\n",
       "    .dataframe tbody tr th {\n",
       "        vertical-align: top;\n",
       "    }\n",
       "\n",
       "    .dataframe thead th {\n",
       "        text-align: right;\n",
       "    }\n",
       "</style>\n",
       "<table border=\"1\" class=\"dataframe\">\n",
       "  <thead>\n",
       "    <tr style=\"text-align: right;\">\n",
       "      <th></th>\n",
       "      <th>pclass</th>\n",
       "      <th>sex</th>\n",
       "      <th>age</th>\n",
       "      <th>survived</th>\n",
       "    </tr>\n",
       "  </thead>\n",
       "  <tbody>\n",
       "    <tr>\n",
       "      <th>0</th>\n",
       "      <td>2</td>\n",
       "      <td>1</td>\n",
       "      <td>-0.673387</td>\n",
       "      <td>0</td>\n",
       "    </tr>\n",
       "    <tr>\n",
       "      <th>1</th>\n",
       "      <td>0</td>\n",
       "      <td>0</td>\n",
       "      <td>0.763709</td>\n",
       "      <td>1</td>\n",
       "    </tr>\n",
       "    <tr>\n",
       "      <th>2</th>\n",
       "      <td>2</td>\n",
       "      <td>0</td>\n",
       "      <td>-0.314113</td>\n",
       "      <td>1</td>\n",
       "    </tr>\n",
       "    <tr>\n",
       "      <th>3</th>\n",
       "      <td>0</td>\n",
       "      <td>0</td>\n",
       "      <td>0.524193</td>\n",
       "      <td>1</td>\n",
       "    </tr>\n",
       "    <tr>\n",
       "      <th>4</th>\n",
       "      <td>2</td>\n",
       "      <td>1</td>\n",
       "      <td>0.524193</td>\n",
       "      <td>0</td>\n",
       "    </tr>\n",
       "    <tr>\n",
       "      <th>...</th>\n",
       "      <td>...</td>\n",
       "      <td>...</td>\n",
       "      <td>...</td>\n",
       "      <td>...</td>\n",
       "    </tr>\n",
       "    <tr>\n",
       "      <th>886</th>\n",
       "      <td>1</td>\n",
       "      <td>1</td>\n",
       "      <td>-0.254234</td>\n",
       "      <td>0</td>\n",
       "    </tr>\n",
       "    <tr>\n",
       "      <th>887</th>\n",
       "      <td>0</td>\n",
       "      <td>0</td>\n",
       "      <td>-0.912903</td>\n",
       "      <td>1</td>\n",
       "    </tr>\n",
       "    <tr>\n",
       "      <th>888</th>\n",
       "      <td>2</td>\n",
       "      <td>0</td>\n",
       "      <td>-0.014718</td>\n",
       "      <td>0</td>\n",
       "    </tr>\n",
       "    <tr>\n",
       "      <th>889</th>\n",
       "      <td>0</td>\n",
       "      <td>1</td>\n",
       "      <td>-0.314113</td>\n",
       "      <td>1</td>\n",
       "    </tr>\n",
       "    <tr>\n",
       "      <th>890</th>\n",
       "      <td>2</td>\n",
       "      <td>1</td>\n",
       "      <td>0.224798</td>\n",
       "      <td>0</td>\n",
       "    </tr>\n",
       "  </tbody>\n",
       "</table>\n",
       "<p>891 rows × 4 columns</p>\n",
       "</div>"
      ],
      "text/plain": [
       "     pclass  sex       age  survived\n",
       "0         2    1 -0.673387         0\n",
       "1         0    0  0.763709         1\n",
       "2         2    0 -0.314113         1\n",
       "3         0    0  0.524193         1\n",
       "4         2    1  0.524193         0\n",
       "..      ...  ...       ...       ...\n",
       "886       1    1 -0.254234         0\n",
       "887       0    0 -0.912903         1\n",
       "888       2    0 -0.014718         0\n",
       "889       0    1 -0.314113         1\n",
       "890       2    1  0.224798         0\n",
       "\n",
       "[891 rows x 4 columns]"
      ]
     },
     "execution_count": 9,
     "metadata": {},
     "output_type": "execute_result"
    }
   ],
   "source": [
    "from sklearn.preprocessing import StandardScaler\n",
    "\n",
    "std_scaler = StandardScaler()\n",
    "std_scaler\n",
    "data['age']= std_scaler.fit_transform(np.array(data['age']).reshape(-1,1))\n",
    "\n",
    "data"
   ]
  },
  {
   "cell_type": "markdown",
   "id": "06b42f86",
   "metadata": {},
   "source": [
    "## Detect, Handle and Visualize Outliers"
   ]
  },
  {
   "cell_type": "code",
   "execution_count": 10,
   "id": "e930994d",
   "metadata": {},
   "outputs": [
    {
     "data": {
      "text/plain": [
       "<AxesSubplot:ylabel='age'>"
      ]
     },
     "execution_count": 10,
     "metadata": {},
     "output_type": "execute_result"
    },
    {
     "data": {
      "image/png": "[encoded data removed]",
      "text/plain": [
       "<Figure size 432x288 with 1 Axes>"
      ]
     },
     "metadata": {
      "needs_background": "light"
     },
     "output_type": "display_data"
    }
   ],
   "source": [
    "import seaborn as sns\n",
    "sns.boxplot(y=data['age'])"
   ]
  },
  {
   "cell_type": "code",
   "execution_count": 11,
   "id": "6303f67a",
   "metadata": {},
   "outputs": [
    {
     "data": {
      "image/png": "[encoded data removed]",
      "text/plain": [
       "<Figure size 1152x576 with 1 Axes>"
      ]
     },
     "metadata": {
      "needs_background": "light"
     },
     "output_type": "display_data"
    }
   ],
   "source": [
    "fig, ax = plt.subplots(figsize=(16,8))\n",
    "ax.scatter(data['survived'], data['age'])\n",
    "ax.set_xlabel('survived')\n",
    "ax.set_ylabel('age')\n",
    "plt.show()"
   ]
  },
  {
   "cell_type": "code",
   "execution_count": 12,
   "id": "0ea8fa06",
   "metadata": {
    "scrolled": false
   },
   "outputs": [
    {
     "name": "stderr",
     "output_type": "stream",
     "text": [
      "c:\\users\\lenovo\\pycharmprojects\\data science\\venv\\lib\\site-packages\\ipykernel_launcher.py:4: FutureWarning: In a future version of pandas all arguments of DataFrame.drop except for the argument 'labels' will be keyword-only\n",
      "  after removing the cwd from sys.path.\n"
     ]
    },
    {
     "data": {
      "image/png": "[encoded data removed]",
      "text/plain": [
       "<Figure size 432x288 with 1 Axes>"
      ]
     },
     "metadata": {
      "needs_background": "light"
     },
     "output_type": "display_data"
    },
    {
     "data": {
      "image/png": "[encoded data removed]",
      "text/plain": [
       "<Figure size 432x288 with 1 Axes>"
      ]
     },
     "metadata": {
      "needs_background": "light"
     },
     "output_type": "display_data"
    },
    {
     "data": {
      "image/png": "[encoded data removed]",
      "text/plain": [
       "<Figure size 432x288 with 1 Axes>"
      ]
     },
     "metadata": {
      "needs_background": "light"
     },
     "output_type": "display_data"
    }
   ],
   "source": [
    "import matplotlib.pyplot as plt\n",
    "\n",
    "x = data.drop(\"survived\",1)\n",
    "columns_name = list(x.columns)\n",
    "\n",
    "for i in columns_name:\n",
    "    data.boxplot(by ='survived', column =[i], grid = False)"
   ]
  },
  {
   "cell_type": "code",
   "execution_count": 13,
   "id": "917c500d",
   "metadata": {},
   "outputs": [
    {
     "name": "stdout",
     "output_type": "stream",
     "text": [
      "0      0.673387\n",
      "1      0.763709\n",
      "2      0.314113\n",
      "3      0.524193\n",
      "4      0.524193\n",
      "         ...   \n",
      "886    0.254234\n",
      "887    0.912903\n",
      "888    0.014718\n",
      "889    0.314113\n",
      "890    0.224798\n",
      "Name: age, Length: 891, dtype: float64\n",
      "(array([], dtype=int64),)\n",
      "0      0.673387\n",
      "1      0.763709\n",
      "2      0.314113\n",
      "3      0.524193\n",
      "4      0.524193\n",
      "         ...   \n",
      "886    0.254234\n",
      "887    0.912903\n",
      "888    0.014718\n",
      "889    0.314113\n",
      "890    0.224798\n",
      "Name: age, Length: 891, dtype: float64\n"
     ]
    }
   ],
   "source": [
    "from scipy import stats\n",
    "import numpy as np\n",
    "z = np.abs(stats.zscore(data['age']))\n",
    "print(z)\n",
    "\n",
    "threshold = 3\n",
    "print(np.where(z > threshold))\n",
    "print(z)"
   ]
  },
  {
   "cell_type": "code",
   "execution_count": 14,
   "id": "944e2fc9",
   "metadata": {},
   "outputs": [
    {
     "name": "stdout",
     "output_type": "stream",
     "text": [
      "pclass      1.00000\n",
      "sex         1.00000\n",
      "age         1.19758\n",
      "survived    1.00000\n",
      "dtype: float64\n"
     ]
    }
   ],
   "source": [
    "Q1 = data.quantile(0.25)\n",
    "Q3 = data.quantile(0.75)\n",
    "IQR = Q3 - Q1\n",
    "print(IQR)"
   ]
  },
  {
   "cell_type": "code",
   "execution_count": 15,
   "id": "54e8b928",
   "metadata": {},
   "outputs": [
    {
     "name": "stdout",
     "output_type": "stream",
     "text": [
      "(891, 4)\n"
     ]
    }
   ],
   "source": [
    "print(data.shape)"
   ]
  },
  {
   "cell_type": "code",
   "execution_count": 16,
   "id": "4d5dea94",
   "metadata": {},
   "outputs": [
    {
     "name": "stdout",
     "output_type": "stream",
     "text": [
      "(872, 4)\n"
     ]
    }
   ],
   "source": [
    "df_out = data[~((data < (Q1 - 1.5 * IQR)) |(data > (Q3 + 1.5 * IQR))).any(axis=1)]\n",
    "print(df_out.shape)"
   ]
  },
  {
   "cell_type": "code",
   "execution_count": 17,
   "id": "3f3b4f98",
   "metadata": {},
   "outputs": [
    {
     "data": {
      "image/png": "[encoded data removed]",
      "text/plain": [
       "<Figure size 1152x576 with 1 Axes>"
      ]
     },
     "metadata": {
      "needs_background": "light"
     },
     "output_type": "display_data"
    }
   ],
   "source": [
    "fig, ax = plt.subplots(figsize=(16,8))\n",
    "ax.scatter(df_out['survived'], df_out['age'])\n",
    "ax.set_xlabel('survived')\n",
    "ax.set_ylabel('age')\n",
    "plt.show()"
   ]
  },
  {
   "cell_type": "code",
   "execution_count": 18,
   "id": "61df0b6c",
   "metadata": {
    "scrolled": true
   },
   "outputs": [
    {
     "data": {
      "text/plain": [
       "array([<AxesSubplot:ylabel='survived'>], dtype=object)"
      ]
     },
     "execution_count": 18,
     "metadata": {},
     "output_type": "execute_result"
    },
    {
     "data": {
      "image/png": "[encoded data removed]",
      "text/plain": [
       "<Figure size 432x288 with 1 Axes>"
      ]
     },
     "metadata": {},
     "output_type": "display_data"
    }
   ],
   "source": [
    "# Plot data untuk melihat perbandingan class bernilai survived atau tidak\n",
    "survived_map= {0:'Not Survived', 1:'Survived'}\n",
    "\n",
    "data['survived'].map(survived_map).value_counts().plot(kind='pie', subplots=True)"
   ]
  },
  {
   "cell_type": "markdown",
   "id": "7ba6c68d",
   "metadata": {},
   "source": [
    "## Resampling"
   ]
  },
  {
   "cell_type": "code",
   "execution_count": 19,
   "id": "00c7b1d9",
   "metadata": {},
   "outputs": [
    {
     "name": "stdout",
     "output_type": "stream",
     "text": [
      "Counter({0: 549, 1: 342})\n"
     ]
    }
   ],
   "source": [
    "X= data.drop('survived', axis='columns')\n",
    "y= data['survived']\n",
    "\n",
    "print(Counter(y))"
   ]
  },
  {
   "cell_type": "markdown",
   "id": "39700d7f",
   "metadata": {},
   "source": [
    "#### A. Oversampling"
   ]
  },
  {
   "cell_type": "code",
   "execution_count": 20,
   "id": "54f99226",
   "metadata": {},
   "outputs": [
    {
     "name": "stdout",
     "output_type": "stream",
     "text": [
      "Counter({0: 549, 1: 549})\n"
     ]
    }
   ],
   "source": [
    "# instantiating the random oversampler \n",
    "ros = RandomOverSampler()\n",
    "# resampling X, y\n",
    "X_ros, y_ros = ros.fit_resample(X, y)\n",
    "\n",
    "# new class distribution \n",
    "print(Counter(y_ros))"
   ]
  },
  {
   "cell_type": "code",
   "execution_count": 21,
   "id": "f3219ec6",
   "metadata": {},
   "outputs": [
    {
     "data": {
      "text/html": [
       "<div>\n",
       "<style scoped>\n",
       "    .dataframe tbody tr th:only-of-type {\n",
       "        vertical-align: middle;\n",
       "    }\n",
       "\n",
       "    .dataframe tbody tr th {\n",
       "        vertical-align: top;\n",
       "    }\n",
       "\n",
       "    .dataframe thead th {\n",
       "        text-align: right;\n",
       "    }\n",
       "</style>\n",
       "<table border=\"1\" class=\"dataframe\">\n",
       "  <thead>\n",
       "    <tr style=\"text-align: right;\">\n",
       "      <th></th>\n",
       "      <th>pclass</th>\n",
       "      <th>sex</th>\n",
       "      <th>age</th>\n",
       "      <th>survived</th>\n",
       "    </tr>\n",
       "  </thead>\n",
       "  <tbody>\n",
       "    <tr>\n",
       "      <th>0</th>\n",
       "      <td>2</td>\n",
       "      <td>1</td>\n",
       "      <td>-0.673387</td>\n",
       "      <td>0</td>\n",
       "    </tr>\n",
       "    <tr>\n",
       "      <th>1</th>\n",
       "      <td>0</td>\n",
       "      <td>0</td>\n",
       "      <td>0.763709</td>\n",
       "      <td>1</td>\n",
       "    </tr>\n",
       "    <tr>\n",
       "      <th>2</th>\n",
       "      <td>2</td>\n",
       "      <td>0</td>\n",
       "      <td>-0.314113</td>\n",
       "      <td>1</td>\n",
       "    </tr>\n",
       "    <tr>\n",
       "      <th>3</th>\n",
       "      <td>0</td>\n",
       "      <td>0</td>\n",
       "      <td>0.524193</td>\n",
       "      <td>1</td>\n",
       "    </tr>\n",
       "    <tr>\n",
       "      <th>4</th>\n",
       "      <td>2</td>\n",
       "      <td>1</td>\n",
       "      <td>0.524193</td>\n",
       "      <td>0</td>\n",
       "    </tr>\n",
       "    <tr>\n",
       "      <th>...</th>\n",
       "      <td>...</td>\n",
       "      <td>...</td>\n",
       "      <td>...</td>\n",
       "      <td>...</td>\n",
       "    </tr>\n",
       "    <tr>\n",
       "      <th>1093</th>\n",
       "      <td>2</td>\n",
       "      <td>1</td>\n",
       "      <td>-0.254234</td>\n",
       "      <td>1</td>\n",
       "    </tr>\n",
       "    <tr>\n",
       "      <th>1094</th>\n",
       "      <td>1</td>\n",
       "      <td>1</td>\n",
       "      <td>0.404435</td>\n",
       "      <td>1</td>\n",
       "    </tr>\n",
       "    <tr>\n",
       "      <th>1095</th>\n",
       "      <td>0</td>\n",
       "      <td>1</td>\n",
       "      <td>-0.014718</td>\n",
       "      <td>1</td>\n",
       "    </tr>\n",
       "    <tr>\n",
       "      <th>1096</th>\n",
       "      <td>1</td>\n",
       "      <td>0</td>\n",
       "      <td>1.602016</td>\n",
       "      <td>1</td>\n",
       "    </tr>\n",
       "    <tr>\n",
       "      <th>1097</th>\n",
       "      <td>0</td>\n",
       "      <td>0</td>\n",
       "      <td>0.823588</td>\n",
       "      <td>1</td>\n",
       "    </tr>\n",
       "  </tbody>\n",
       "</table>\n",
       "<p>1098 rows × 4 columns</p>\n",
       "</div>"
      ],
      "text/plain": [
       "      pclass  sex       age  survived\n",
       "0          2    1 -0.673387         0\n",
       "1          0    0  0.763709         1\n",
       "2          2    0 -0.314113         1\n",
       "3          0    0  0.524193         1\n",
       "4          2    1  0.524193         0\n",
       "...      ...  ...       ...       ...\n",
       "1093       2    1 -0.254234         1\n",
       "1094       1    1  0.404435         1\n",
       "1095       0    1 -0.014718         1\n",
       "1096       1    0  1.602016         1\n",
       "1097       0    0  0.823588         1\n",
       "\n",
       "[1098 rows x 4 columns]"
      ]
     },
     "execution_count": 21,
     "metadata": {},
     "output_type": "execute_result"
    }
   ],
   "source": [
    "over_sampled_data= pd.concat([X_ros, y_ros], axis='columns')\n",
    "over_sampled_data"
   ]
  },
  {
   "cell_type": "code",
   "execution_count": 22,
   "id": "4b433b84",
   "metadata": {},
   "outputs": [
    {
     "data": {
      "text/plain": [
       "array([<AxesSubplot:ylabel='survived'>], dtype=object)"
      ]
     },
     "execution_count": 22,
     "metadata": {},
     "output_type": "execute_result"
    },
    {
     "data": {
      "image/png": "[encoded data removed]",
      "text/plain": [
       "<Figure size 432x288 with 1 Axes>"
      ]
     },
     "metadata": {},
     "output_type": "display_data"
    }
   ],
   "source": [
    "survived_map= {0:'Not Survived', 1:'Survived'}\n",
    "\n",
    "over_sampled_data.survived.map(survived_map).value_counts().plot(kind='pie', subplots=True)"
   ]
  },
  {
   "cell_type": "markdown",
   "id": "cfbfe766",
   "metadata": {},
   "source": [
    "Bisa kita lihat sekarang datanya seimbang"
   ]
  },
  {
   "cell_type": "markdown",
   "id": "88d70cc0",
   "metadata": {},
   "source": [
    "1. SMOTE"
   ]
  },
  {
   "cell_type": "code",
   "execution_count": 23,
   "id": "8ac4fd98",
   "metadata": {},
   "outputs": [
    {
     "name": "stdout",
     "output_type": "stream",
     "text": [
      "Counter({0: 549, 1: 549})\n"
     ]
    }
   ],
   "source": [
    "from imblearn.over_sampling import SMOTE\n",
    "\n",
    "smote = SMOTE(sampling_strategy='minority')\n",
    "X_smz, y_sm = smote.fit_resample(X, y)\n",
    "\n",
    "print(Counter(y_sm))"
   ]
  },
  {
   "cell_type": "markdown",
   "id": "d564e966",
   "metadata": {},
   "source": [
    "2. SMOTE Tomek"
   ]
  },
  {
   "cell_type": "code",
   "execution_count": 24,
   "id": "15a7f42e",
   "metadata": {},
   "outputs": [
    {
     "name": "stdout",
     "output_type": "stream",
     "text": [
      "Counter({0: 544, 1: 544})\n"
     ]
    }
   ],
   "source": [
    "from imblearn.combine import SMOTETomek\n",
    "\n",
    "smote= SMOTETomek(sampling_strategy='minority')\n",
    "X_smz, y_sm= smote.fit_resample(X, y)\n",
    "\n",
    "print(Counter(y_sm))"
   ]
  },
  {
   "cell_type": "markdown",
   "id": "513ebce0",
   "metadata": {},
   "source": [
    "#### B. Undersampling"
   ]
  },
  {
   "cell_type": "code",
   "execution_count": 25,
   "id": "79d80cad",
   "metadata": {},
   "outputs": [
    {
     "name": "stdout",
     "output_type": "stream",
     "text": [
      "Counter({0: 342, 1: 342})\n"
     ]
    }
   ],
   "source": [
    "# instantiating the random undersampler\n",
    "rus = RandomUnderSampler() \n",
    "# resampling X, y\n",
    "X_rus, y_rus = rus.fit_resample(X, y)\n",
    "\n",
    "# new class distribution\n",
    "print(Counter(y_rus))"
   ]
  },
  {
   "cell_type": "markdown",
   "id": "ffeb11c5",
   "metadata": {},
   "source": [
    "1.  TOMEK Links"
   ]
  },
  {
   "cell_type": "code",
   "execution_count": 26,
   "id": "e5fce746",
   "metadata": {},
   "outputs": [
    {
     "name": "stdout",
     "output_type": "stream",
     "text": [
      "Counter({0: 546, 1: 342})\n"
     ]
    }
   ],
   "source": [
    "from imblearn.under_sampling import TomekLinks\n",
    "\n",
    "tl = TomekLinks(sampling_strategy='majority')\n",
    "X_tl, y_tl= tl.fit_resample(X, y)\n",
    "\n",
    "print(Counter(y_tl))"
   ]
  },
  {
   "cell_type": "code",
   "execution_count": 27,
   "id": "8bf7c4dc",
   "metadata": {},
   "outputs": [
    {
     "name": "stdout",
     "output_type": "stream",
     "text": [
      "Counter({0: 342, 1: 342})\n"
     ]
    },
    {
     "name": "stderr",
     "output_type": "stream",
     "text": [
      "c:\\users\\lenovo\\pycharmprojects\\data science\\venv\\lib\\site-packages\\imblearn\\under_sampling\\_prototype_generation\\_cluster_centroids.py:172: ConvergenceWarning: Number of distinct clusters (179) found smaller than n_clusters (342). Possibly due to duplicate points in X.\n",
      "  self.estimator_.fit(_safe_indexing(X, target_class_indices))\n"
     ]
    }
   ],
   "source": [
    "from imblearn.under_sampling import ClusterCentroids\n",
    "\n",
    "cc = ClusterCentroids()\n",
    "X_cc, y_cc = cc.fit_resample(X, y)\n",
    "\n",
    "print(Counter(y_cc))"
   ]
  },
  {
   "cell_type": "markdown",
   "id": "2191057f",
   "metadata": {},
   "source": [
    "## Klasifikasi"
   ]
  },
  {
   "cell_type": "code",
   "execution_count": 28,
   "id": "39b3b754",
   "metadata": {},
   "outputs": [
    {
     "data": {
      "text/plain": [
       "(179, 712)"
      ]
     },
     "execution_count": 28,
     "metadata": {},
     "output_type": "execute_result"
    }
   ],
   "source": [
    "x_train, x_test, y_train, y_test= train_test_split(X, y, test_size=0.2)\n",
    "\n",
    "len(x_test), len(x_train)"
   ]
  },
  {
   "cell_type": "code",
   "execution_count": 29,
   "id": "ddb2ab34",
   "metadata": {},
   "outputs": [
    {
     "data": {
      "text/plain": [
       "[Text(127.09618226600985, 212.26285714285714, 'X[1] <= 0.5\\ngini = 0.477\\nsamples = 100.0%\\nvalue = [0.608, 0.392]'),\n",
       " Text(48.65320197044335, 201.90857142857143, 'X[0] <= 1.5\\n0.381\\n35.7%\\n[0.256, 0.744]'),\n",
       " Text(16.492610837438423, 191.5542857142857, 'X[2] <= -1.961\\n0.12\\n19.8%\\n[0.064, 0.936]'),\n",
       " Text(9.895566502463055, 181.2, 'X[0] <= 0.5\\n0.5\\n0.3%\\n[0.5, 0.5]'),\n",
       " Text(6.59704433497537, 170.84571428571428, '0.0\\n0.1%\\n[1.0, 0.0]'),\n",
       " Text(13.19408866995074, 170.84571428571428, '0.0\\n0.1%\\n[0.0, 1.0]'),\n",
       " Text(23.089655172413792, 181.2, 'X[2] <= -0.554\\n0.108\\n19.5%\\n[0.058, 0.942]'),\n",
       " Text(19.79113300492611, 170.84571428571428, '0.0\\n4.8%\\n[0.0, 1.0]'),\n",
       " Text(26.38817733990148, 170.84571428571428, 'X[2] <= -0.224\\n0.141\\n14.7%\\n[0.076, 0.924]'),\n",
       " Text(13.19408866995074, 160.49142857142857, 'X[2] <= -0.434\\n0.375\\n2.2%\\n[0.25, 0.75]'),\n",
       " Text(6.59704433497537, 150.13714285714286, 'X[0] <= 0.5\\n0.198\\n1.3%\\n[0.111, 0.889]'),\n",
       " Text(3.298522167487685, 139.78285714285715, '0.0\\n0.4%\\n[0.0, 1.0]'),\n",
       " Text(9.895566502463055, 139.78285714285715, '0.278\\n0.8%\\n[0.167, 0.833]'),\n",
       " Text(19.79113300492611, 150.13714285714286, 'X[0] <= 0.5\\n0.49\\n1.0%\\n[0.429, 0.571]'),\n",
       " Text(16.492610837438423, 139.78285714285715, '0.0\\n0.1%\\n[1.0, 0.0]'),\n",
       " Text(23.089655172413792, 139.78285714285715, 'X[2] <= -0.344\\n0.444\\n0.8%\\n[0.333, 0.667]'),\n",
       " Text(19.79113300492611, 129.42857142857144, '0.0\\n0.3%\\n[0.0, 1.0]'),\n",
       " Text(26.38817733990148, 129.42857142857144, 'X[2] <= -0.284\\n0.5\\n0.6%\\n[0.5, 0.5]'),\n",
       " Text(23.089655172413792, 119.07428571428571, '0.0\\n0.1%\\n[1.0, 0.0]'),\n",
       " Text(29.686699507389164, 119.07428571428571, '0.444\\n0.4%\\n[0.333, 0.667]'),\n",
       " Text(39.58226600985222, 160.49142857142857, 'X[2] <= 0.674\\n0.086\\n12.5%\\n[0.045, 0.955]'),\n",
       " Text(36.28374384236453, 150.13714285714286, '0.0\\n7.0%\\n[0.0, 1.0]'),\n",
       " Text(42.8807881773399, 150.13714285714286, 'X[0] <= 0.5\\n0.184\\n5.5%\\n[0.103, 0.897]'),\n",
       " Text(36.28374384236453, 139.78285714285715, 'X[2] <= 1.512\\n0.08\\n3.4%\\n[0.042, 0.958]'),\n",
       " Text(32.98522167487685, 129.42857142857144, '0.0\\n1.8%\\n[0.0, 1.0]'),\n",
       " Text(39.58226600985222, 129.42857142857144, 'X[2] <= 1.632\\n0.165\\n1.5%\\n[0.091, 0.909]'),\n",
       " Text(36.28374384236453, 119.07428571428571, '0.5\\n0.3%\\n[0.5, 0.5]'),\n",
       " Text(42.8807881773399, 119.07428571428571, '0.0\\n1.3%\\n[0.0, 1.0]'),\n",
       " Text(49.477832512315274, 139.78285714285715, 'X[2] <= 0.824\\n0.32\\n2.1%\\n[0.2, 0.8]'),\n",
       " Text(46.179310344827584, 129.42857142857144, '0.0\\n0.1%\\n[1.0, 0.0]'),\n",
       " Text(52.77635467980296, 129.42857142857144, 'X[2] <= 1.991\\n0.245\\n2.0%\\n[0.143, 0.857]'),\n",
       " Text(49.477832512315274, 119.07428571428571, 'X[2] <= 1.213\\n0.142\\n1.8%\\n[0.077, 0.923]'),\n",
       " Text(46.179310344827584, 108.72, 'X[2] <= 1.123\\n0.278\\n0.8%\\n[0.167, 0.833]'),\n",
       " Text(42.8807881773399, 98.36571428571429, '0.0\\n0.7%\\n[0.0, 1.0]'),\n",
       " Text(49.477832512315274, 98.36571428571429, '0.0\\n0.1%\\n[1.0, 0.0]'),\n",
       " Text(52.77635467980296, 108.72, '0.0\\n1.0%\\n[0.0, 1.0]'),\n",
       " Text(56.07487684729064, 119.07428571428571, '0.0\\n0.1%\\n[1.0, 0.0]'),\n",
       " Text(80.81379310344828, 191.5542857142857, 'X[2] <= 0.794\\n0.5\\n15.9%\\n[0.496, 0.504]'),\n",
       " Text(74.21674876847291, 181.2, 'X[2] <= -2.021\\n0.498\\n14.7%\\n[0.467, 0.533]'),\n",
       " Text(70.91822660098522, 170.84571428571428, '0.0\\n0.3%\\n[0.0, 1.0]'),\n",
       " Text(77.51527093596059, 170.84571428571428, 'X[2] <= -1.901\\n0.499\\n14.5%\\n[0.476, 0.524]'),\n",
       " Text(70.91822660098522, 160.49142857142857, 'X[2] <= -1.961\\n0.32\\n0.7%\\n[0.8, 0.2]'),\n",
       " Text(67.61970443349753, 150.13714285714286, '0.375\\n0.6%\\n[0.75, 0.25]'),\n",
       " Text(74.21674876847291, 150.13714285714286, '0.0\\n0.1%\\n[1.0, 0.0]'),\n",
       " Text(84.11231527093597, 160.49142857142857, 'X[2] <= -1.781\\n0.497\\n13.8%\\n[0.459, 0.541]'),\n",
       " Text(80.81379310344828, 150.13714285714286, '0.0\\n0.8%\\n[0.0, 1.0]'),\n",
       " Text(87.41083743842364, 150.13714285714286, 'X[2] <= -1.392\\n0.5\\n12.9%\\n[0.489, 0.511]'),\n",
       " Text(84.11231527093597, 139.78285714285715, '0.0\\n0.8%\\n[1.0, 0.0]'),\n",
       " Text(90.70935960591133, 139.78285714285715, 'X[2] <= -1.003\\n0.496\\n12.1%\\n[0.453, 0.547]'),\n",
       " Text(69.26896551724138, 129.42857142857144, 'X[2] <= -1.182\\n0.397\\n1.5%\\n[0.273, 0.727]'),\n",
       " Text(62.67192118226601, 119.07428571428571, 'X[2] <= -1.302\\n0.5\\n0.6%\\n[0.5, 0.5]'),\n",
       " Text(59.37339901477833, 108.72, '0.0\\n0.1%\\n[0.0, 1.0]'),\n",
       " Text(65.9704433497537, 108.72, 'X[2] <= -1.242\\n0.444\\n0.4%\\n[0.667, 0.333]'),\n",
       " Text(62.67192118226601, 98.36571428571429, '0.5\\n0.3%\\n[0.5, 0.5]'),\n",
       " Text(69.26896551724138, 98.36571428571429, '0.0\\n0.1%\\n[1.0, 0.0]'),\n",
       " Text(75.86600985221675, 119.07428571428571, 'X[2] <= -1.122\\n0.245\\n1.0%\\n[0.143, 0.857]'),\n",
       " Text(72.56748768472906, 108.72, '0.0\\n0.4%\\n[0.0, 1.0]'),\n",
       " Text(79.16453201970444, 108.72, 'X[2] <= -1.063\\n0.375\\n0.6%\\n[0.25, 0.75]'),\n",
       " Text(75.86600985221675, 98.36571428571429, '0.444\\n0.4%\\n[0.333, 0.667]'),\n",
       " Text(82.46305418719211, 98.36571428571429, '0.0\\n0.1%\\n[0.0, 1.0]'),\n",
       " Text(112.14975369458128, 129.42857142857144, 'X[2] <= -0.703\\n0.499\\n10.5%\\n[0.48, 0.52]'),\n",
       " Text(98.95566502463055, 119.07428571428571, 'X[2] <= -0.883\\n0.444\\n1.7%\\n[0.667, 0.333]'),\n",
       " Text(92.35862068965517, 108.72, 'X[2] <= -0.943\\n0.469\\n1.1%\\n[0.625, 0.375]'),\n",
       " Text(89.0600985221675, 98.36571428571429, '0.408\\n1.0%\\n[0.714, 0.286]'),\n",
       " Text(95.65714285714286, 98.36571428571429, '0.0\\n0.1%\\n[0.0, 1.0]'),\n",
       " Text(105.55270935960591, 108.72, 'X[2] <= -0.793\\n0.375\\n0.6%\\n[0.75, 0.25]'),\n",
       " Text(102.25418719211822, 98.36571428571429, '0.0\\n0.1%\\n[1.0, 0.0]'),\n",
       " Text(108.8512315270936, 98.36571428571429, '0.444\\n0.4%\\n[0.667, 0.333]'),\n",
       " Text(125.34384236453202, 119.07428571428571, 'X[2] <= -0.434\\n0.494\\n8.8%\\n[0.444, 0.556]'),\n",
       " Text(118.74679802955666, 108.72, 'X[2] <= -0.643\\n0.375\\n1.1%\\n[0.25, 0.75]'),\n",
       " Text(115.44827586206897, 98.36571428571429, '0.444\\n0.4%\\n[0.333, 0.667]'),\n",
       " Text(122.04532019704433, 98.36571428571429, 'X[2] <= -0.554\\n0.32\\n0.7%\\n[0.2, 0.8]'),\n",
       " Text(118.74679802955666, 88.01142857142858, '0.0\\n0.1%\\n[0.0, 1.0]'),\n",
       " Text(125.34384236453202, 88.01142857142858, '0.375\\n0.6%\\n[0.25, 0.75]'),\n",
       " Text(131.9408866995074, 108.72, 'X[2] <= -0.344\\n0.499\\n7.7%\\n[0.473, 0.527]'),\n",
       " Text(128.6423645320197, 98.36571428571429, '0.0\\n0.1%\\n[1.0, 0.0]'),\n",
       " Text(135.23940886699506, 98.36571428571429, 'X[2] <= 0.734\\n0.497\\n7.6%\\n[0.463, 0.537]'),\n",
       " Text(131.9408866995074, 88.01142857142858, 'X[2] <= 0.614\\n0.498\\n7.4%\\n[0.472, 0.528]'),\n",
       " Text(128.6423645320197, 77.65714285714284, 'X[2] <= 0.255\\n0.497\\n7.3%\\n[0.462, 0.538]'),\n",
       " Text(125.34384236453202, 67.30285714285714, 'X[2] <= 0.015\\n0.499\\n7.0%\\n[0.48, 0.52]'),\n",
       " Text(117.0975369458128, 56.94857142857143, 'X[2] <= -0.134\\n0.496\\n6.2%\\n[0.455, 0.545]'),\n",
       " Text(110.50049261083744, 46.59428571428572, 'X[2] <= -0.224\\n0.48\\n0.7%\\n[0.6, 0.4]'),\n",
       " Text(107.20197044334975, 36.24000000000001, 'X[2] <= -0.284\\n0.444\\n0.4%\\n[0.333, 0.667]'),\n",
       " Text(103.90344827586208, 25.8857142857143, '0.5\\n0.3%\\n[0.5, 0.5]'),\n",
       " Text(110.50049261083744, 25.8857142857143, '0.0\\n0.1%\\n[0.0, 1.0]'),\n",
       " Text(113.79901477832513, 36.24000000000001, '0.0\\n0.3%\\n[1.0, 0.0]'),\n",
       " Text(123.69458128078819, 46.59428571428572, 'X[2] <= -0.045\\n0.492\\n5.5%\\n[0.436, 0.564]'),\n",
       " Text(120.3960591133005, 36.24000000000001, '0.5\\n0.3%\\n[0.5, 0.5]'),\n",
       " Text(126.99310344827586, 36.24000000000001, '0.491\\n5.2%\\n[0.432, 0.568]'),\n",
       " Text(133.59014778325124, 56.94857142857143, 'X[2] <= 0.105\\n0.444\\n0.8%\\n[0.667, 0.333]'),\n",
       " Text(130.29162561576354, 46.59428571428572, '0.444\\n0.4%\\n[0.667, 0.333]'),\n",
       " Text(136.88866995073892, 46.59428571428572, '0.444\\n0.4%\\n[0.667, 0.333]'),\n",
       " Text(131.9408866995074, 67.30285714285714, '0.0\\n0.3%\\n[0.0, 1.0]'),\n",
       " Text(135.23940886699506, 77.65714285714284, '0.0\\n0.1%\\n[1.0, 0.0]'),\n",
       " Text(138.53793103448277, 88.01142857142858, '0.0\\n0.1%\\n[0.0, 1.0]'),\n",
       " Text(87.41083743842364, 181.2, 'X[2] <= 1.961\\n0.219\\n1.1%\\n[0.875, 0.125]'),\n",
       " Text(84.11231527093597, 170.84571428571428, '0.0\\n1.0%\\n[1.0, 0.0]'),\n",
       " Text(90.70935960591133, 170.84571428571428, '0.0\\n0.1%\\n[0.0, 1.0]'),\n",
       " Text(205.53916256157635, 201.90857142857143, 'X[2] <= -1.332\\n0.316\\n64.3%\\n[0.803, 0.197]'),\n",
       " Text(145.13497536945812, 191.5542857142857, 'X[0] <= 1.5\\n0.459\\n3.9%\\n[0.357, 0.643]'),\n",
       " Text(141.83645320197044, 181.2, '0.0\\n1.5%\\n[0.0, 1.0]'),\n",
       " Text(148.43349753694582, 181.2, 'X[2] <= -2.2\\n0.484\\n2.4%\\n[0.588, 0.412]'),\n",
       " Text(145.13497536945812, 170.84571428571428, '0.0\\n0.1%\\n[0.0, 1.0]'),\n",
       " Text(151.7320197044335, 170.84571428571428, 'X[2] <= -1.961\\n0.469\\n2.2%\\n[0.625, 0.375]'),\n",
       " Text(148.43349753694582, 160.49142857142857, '0.0\\n0.6%\\n[1.0, 0.0]'),\n",
       " Text(155.03054187192117, 160.49142857142857, 'X[2] <= -1.901\\n0.5\\n1.7%\\n[0.5, 0.5]'),\n",
       " Text(151.7320197044335, 150.13714285714286, '0.0\\n0.1%\\n[0.0, 1.0]'),\n",
       " Text(158.32906403940888, 150.13714285714286, 'X[2] <= -1.422\\n0.496\\n1.5%\\n[0.545, 0.455]'),\n",
       " Text(155.03054187192117, 139.78285714285715, 'X[2] <= -1.512\\n0.48\\n1.4%\\n[0.6, 0.4]'),\n",
       " Text(151.7320197044335, 129.42857142857144, 'X[2] <= -1.602\\n0.5\\n1.1%\\n[0.5, 0.5]'),\n",
       " Text(148.43349753694582, 119.07428571428571, 'X[2] <= -1.721\\n0.444\\n0.8%\\n[0.667, 0.333]'),\n",
       " Text(145.13497536945812, 108.72, 'X[2] <= -1.811\\n0.5\\n0.6%\\n[0.5, 0.5]'),\n",
       " Text(141.83645320197044, 98.36571428571429, '0.444\\n0.4%\\n[0.667, 0.333]'),\n",
       " Text(148.43349753694582, 98.36571428571429, '0.0\\n0.1%\\n[0.0, 1.0]'),\n",
       " Text(151.7320197044335, 108.72, '0.0\\n0.3%\\n[1.0, 0.0]'),\n",
       " Text(155.03054187192117, 119.07428571428571, '0.0\\n0.3%\\n[0.0, 1.0]'),\n",
       " Text(158.32906403940888, 129.42857142857144, '0.0\\n0.3%\\n[1.0, 0.0]'),\n",
       " Text(161.62758620689655, 139.78285714285715, '0.0\\n0.1%\\n[0.0, 1.0]'),\n",
       " Text(265.9433497536946, 191.5542857142857, 'X[0] <= 0.5\\n0.279\\n60.4%\\n[0.833, 0.167]'),\n",
       " Text(230.484236453202, 181.2, 'X[2] <= 1.782\\n0.449\\n13.2%\\n[0.66, 0.34]'),\n",
       " Text(210.2807881773399, 170.84571428571428, 'X[2] <= 1.452\\n0.48\\n10.5%\\n[0.6, 0.4]'),\n",
       " Text(192.96354679802957, 160.49142857142857, 'X[2] <= 1.123\\n0.457\\n9.1%\\n[0.646, 0.354]'),\n",
       " Text(189.66502463054186, 150.13714285714286, 'X[2] <= 0.195\\n0.487\\n7.7%\\n[0.582, 0.418]'),\n",
       " Text(173.17241379310346, 139.78285714285715, 'X[2] <= -0.134\\n0.444\\n5.1%\\n[0.667, 0.333]'),\n",
       " Text(164.92610837438423, 129.42857142857144, 'X[2] <= -0.643\\n0.5\\n1.7%\\n[0.5, 0.5]'),\n",
       " Text(161.62758620689655, 119.07428571428571, '0.0\\n0.4%\\n[1.0, 0.0]'),\n",
       " Text(168.22463054187193, 119.07428571428571, 'X[2] <= -0.284\\n0.444\\n1.3%\\n[0.333, 0.667]'),\n",
       " Text(161.62758620689655, 108.72, 'X[2] <= -0.434\\n0.32\\n0.7%\\n[0.2, 0.8]'),\n",
       " Text(158.32906403940888, 98.36571428571429, 'X[2] <= -0.554\\n0.5\\n0.3%\\n[0.5, 0.5]'),\n",
       " Text(155.03054187192117, 88.01142857142858, '0.0\\n0.1%\\n[0.0, 1.0]'),\n",
       " Text(161.62758620689655, 88.01142857142858, '0.0\\n0.1%\\n[1.0, 0.0]'),\n",
       " Text(164.92610837438423, 98.36571428571429, '0.0\\n0.4%\\n[0.0, 1.0]'),\n",
       " Text(174.82167487684728, 108.72, 'X[2] <= -0.224\\n0.5\\n0.6%\\n[0.5, 0.5]'),\n",
       " Text(171.5231527093596, 98.36571428571429, '0.5\\n0.3%\\n[0.5, 0.5]'),\n",
       " Text(178.120197044335, 98.36571428571429, '0.5\\n0.3%\\n[0.5, 0.5]'),\n",
       " Text(181.41871921182266, 129.42857142857144, 'X[2] <= -0.045\\n0.375\\n3.4%\\n[0.75, 0.25]'),\n",
       " Text(178.120197044335, 119.07428571428571, '0.0\\n0.3%\\n[1.0, 0.0]'),\n",
       " Text(184.71724137931034, 119.07428571428571, 'X[2] <= 0.075\\n0.397\\n3.1%\\n[0.727, 0.273]'),\n",
       " Text(181.41871921182266, 108.72, '0.388\\n2.7%\\n[0.737, 0.263]'),\n",
       " Text(188.01576354679804, 108.72, '0.444\\n0.4%\\n[0.667, 0.333]'),\n",
       " Text(206.1576354679803, 139.78285714285715, 'X[2] <= 0.644\\n0.488\\n2.7%\\n[0.421, 0.579]'),\n",
       " Text(194.6128078817734, 129.42857142857144, 'X[2] <= 0.285\\n0.42\\n1.4%\\n[0.3, 0.7]'),\n",
       " Text(191.31428571428572, 119.07428571428571, '0.0\\n0.1%\\n[0.0, 1.0]'),\n",
       " Text(197.9113300492611, 119.07428571428571, 'X[2] <= 0.374\\n0.444\\n1.3%\\n[0.333, 0.667]'),\n",
       " Text(194.6128078817734, 108.72, '0.0\\n0.1%\\n[1.0, 0.0]'),\n",
       " Text(201.20985221674877, 108.72, 'X[2] <= 0.554\\n0.375\\n1.1%\\n[0.25, 0.75]'),\n",
       " Text(197.9113300492611, 98.36571428571429, '0.0\\n0.3%\\n[0.0, 1.0]'),\n",
       " Text(204.50837438423645, 98.36571428571429, '0.444\\n0.8%\\n[0.333, 0.667]'),\n",
       " Text(217.7024630541872, 129.42857142857144, 'X[2] <= 0.824\\n0.494\\n1.3%\\n[0.556, 0.444]'),\n",
       " Text(211.10541871921183, 119.07428571428571, 'X[2] <= 0.734\\n0.5\\n0.6%\\n[0.5, 0.5]'),\n",
       " Text(207.80689655172415, 108.72, '0.5\\n0.3%\\n[0.5, 0.5]'),\n",
       " Text(214.4039408866995, 108.72, '0.5\\n0.3%\\n[0.5, 0.5]'),\n",
       " Text(224.29950738916256, 119.07428571428571, 'X[2] <= 0.973\\n0.48\\n0.7%\\n[0.6, 0.4]'),\n",
       " Text(221.00098522167488, 108.72, '0.444\\n0.4%\\n[0.667, 0.333]'),\n",
       " Text(227.59802955665026, 108.72, '0.5\\n0.3%\\n[0.5, 0.5]'),\n",
       " Text(196.26206896551724, 150.13714285714286, '0.0\\n1.4%\\n[1.0, 0.0]'),\n",
       " Text(227.59802955665026, 160.49142857142857, 'X[2] <= 1.572\\n0.42\\n1.4%\\n[0.3, 0.7]'),\n",
       " Text(224.29950738916256, 150.13714285714286, '0.0\\n0.6%\\n[0.0, 1.0]'),\n",
       " Text(230.89655172413794, 150.13714285714286, 'X[2] <= 1.692\\n0.5\\n0.8%\\n[0.5, 0.5]'),\n",
       " Text(227.59802955665026, 139.78285714285715, 'X[2] <= 1.632\\n0.48\\n0.7%\\n[0.6, 0.4]'),\n",
       " Text(224.29950738916256, 129.42857142857144, '0.444\\n0.4%\\n[0.667, 0.333]'),\n",
       " Text(230.89655172413794, 129.42857142857144, '0.5\\n0.3%\\n[0.5, 0.5]'),\n",
       " Text(234.1950738916256, 139.78285714285715, '0.0\\n0.1%\\n[0.0, 1.0]'),\n",
       " Text(250.68768472906405, 170.84571428571428, 'X[2] <= 2.291\\n0.188\\n2.7%\\n[0.895, 0.105]'),\n",
       " Text(247.38916256157637, 160.49142857142857, 'X[2] <= 2.201\\n0.32\\n1.4%\\n[0.8, 0.2]'),\n",
       " Text(244.09064039408867, 150.13714285714286, 'X[2] <= 1.961\\n0.219\\n1.1%\\n[0.875, 0.125]'),\n",
       " Text(240.792118226601, 139.78285714285715, '0.0\\n0.4%\\n[1.0, 0.0]'),\n",
       " Text(247.38916256157637, 139.78285714285715, 'X[2] <= 2.081\\n0.32\\n0.7%\\n[0.8, 0.2]'),\n",
       " Text(244.09064039408867, 129.42857142857144, '0.444\\n0.4%\\n[0.667, 0.333]'),\n",
       " Text(250.68768472906405, 129.42857142857144, '0.0\\n0.3%\\n[1.0, 0.0]'),\n",
       " Text(250.68768472906405, 150.13714285714286, '0.5\\n0.3%\\n[0.5, 0.5]'),\n",
       " Text(253.98620689655172, 160.49142857142857, '0.0\\n1.3%\\n[1.0, 0.0]'),\n",
       " Text(301.4024630541872, 181.2, 'X[2] <= 0.255\\n0.21\\n47.2%\\n[0.881, 0.119]'),\n",
       " Text(281.19901477832514, 170.84571428571428, 'X[2] <= 0.195\\n0.239\\n35.4%\\n[0.861, 0.139]'),\n",
       " Text(272.128078817734, 160.49142857142857, 'X[0] <= 1.5\\n0.217\\n34.0%\\n[0.876, 0.124]'),\n",
       " Text(263.8817733990148, 150.13714285714286, 'X[2] <= 0.105\\n0.093\\n5.8%\\n[0.951, 0.049]'),\n",
       " Text(260.5832512315271, 139.78285714285715, 'X[2] <= -0.763\\n0.053\\n5.2%\\n[0.973, 0.027]'),\n",
       " Text(257.2847290640394, 129.42857142857144, 'X[2] <= -0.943\\n0.245\\n1.0%\\n[0.857, 0.143]'),\n",
       " Text(253.98620689655172, 119.07428571428571, '0.0\\n0.7%\\n[1.0, 0.0]'),\n",
       " Text(260.5832512315271, 119.07428571428571, '0.5\\n0.3%\\n[0.5, 0.5]'),\n",
       " Text(263.8817733990148, 129.42857142857144, '0.0\\n4.2%\\n[1.0, 0.0]'),\n",
       " Text(267.1802955665025, 139.78285714285715, '0.375\\n0.6%\\n[0.75, 0.25]'),\n",
       " Text(280.3743842364532, 150.13714285714286, 'X[2] <= 0.135\\n0.24\\n28.2%\\n[0.861, 0.139]'),\n",
       " Text(277.07586206896553, 139.78285714285715, 'X[2] <= -0.045\\n0.236\\n27.8%\\n[0.864, 0.136]'),\n",
       " Text(270.4788177339901, 129.42857142857144, 'X[2] <= -0.105\\n0.266\\n16.0%\\n[0.842, 0.158]'),\n",
       " Text(267.1802955665025, 119.07428571428571, 'X[2] <= -0.224\\n0.237\\n15.3%\\n[0.862, 0.138]'),\n",
       " Text(263.8817733990148, 108.72, 'X[2] <= -0.284\\n0.257\\n13.9%\\n[0.848, 0.152]'),\n",
       " Text(260.5832512315271, 98.36571428571429, 'X[2] <= -0.344\\n0.223\\n13.2%\\n[0.872, 0.128]'),\n",
       " Text(257.2847290640394, 88.01142857142858, 'X[2] <= -1.003\\n0.208\\n11.9%\\n[0.882, 0.118]'),\n",
       " Text(249.0384236453202, 77.65714285714284, 'X[2] <= -1.063\\n0.117\\n2.2%\\n[0.938, 0.062]'),\n",
       " Text(245.73990147783252, 67.30285714285714, 'X[2] <= -1.122\\n0.18\\n1.4%\\n[0.9, 0.1]'),\n",
       " Text(242.44137931034484, 56.94857142857143, '0.0\\n0.4%\\n[1.0, 0.0]'),\n",
       " Text(249.0384236453202, 56.94857142857143, '0.245\\n1.0%\\n[0.857, 0.143]'),\n",
       " Text(252.3369458128079, 67.30285714285714, '0.0\\n0.8%\\n[1.0, 0.0]'),\n",
       " Text(265.5310344827586, 77.65714285714284, 'X[2] <= -0.823\\n0.227\\n9.7%\\n[0.87, 0.13]'),\n",
       " Text(258.9339901477833, 67.30285714285714, 'X[2] <= -0.883\\n0.302\\n3.8%\\n[0.815, 0.185]'),\n",
       " Text(255.63546798029557, 56.94857142857143, 'X[2] <= -0.943\\n0.219\\n2.2%\\n[0.875, 0.125]'),\n",
       " Text(252.3369458128079, 46.59428571428572, '0.278\\n0.8%\\n[0.833, 0.167]'),\n",
       " Text(258.9339901477833, 46.59428571428572, '0.18\\n1.4%\\n[0.9, 0.1]'),\n",
       " Text(262.2325123152709, 56.94857142857143, '0.397\\n1.5%\\n[0.727, 0.273]'),\n",
       " Text(272.128078817734, 67.30285714285714, 'X[2] <= -0.763\\n0.172\\n5.9%\\n[0.905, 0.095]'),\n",
       " Text(268.82955665024633, 56.94857142857143, '0.0\\n0.1%\\n[1.0, 0.0]'),\n",
       " Text(275.4266009852217, 56.94857142857143, 'X[2] <= -0.404\\n0.176\\n5.8%\\n[0.902, 0.098]'),\n",
       " Text(272.128078817734, 46.59428571428572, 'X[2] <= -0.464\\n0.17\\n4.5%\\n[0.906, 0.094]'),\n",
       " Text(268.82955665024633, 36.24000000000001, 'X[2] <= -0.554\\n0.175\\n4.4%\\n[0.903, 0.097]'),\n",
       " Text(265.5310344827586, 25.8857142857143, 'X[2] <= -0.643\\n0.165\\n3.1%\\n[0.909, 0.091]'),\n",
       " Text(262.2325123152709, 15.531428571428563, 'X[2] <= -0.703\\n0.18\\n2.8%\\n[0.9, 0.1]'),\n",
       " Text(258.9339901477833, 5.177142857142854, '0.18\\n1.4%\\n[0.9, 0.1]'),\n",
       " Text(265.5310344827586, 5.177142857142854, '0.18\\n1.4%\\n[0.9, 0.1]'),\n",
       " Text(268.82955665024633, 15.531428571428563, '0.0\\n0.3%\\n[1.0, 0.0]'),\n",
       " Text(272.128078817734, 25.8857142857143, '0.198\\n1.3%\\n[0.889, 0.111]'),\n",
       " Text(275.4266009852217, 36.24000000000001, '0.0\\n0.1%\\n[1.0, 0.0]'),\n",
       " Text(278.7251231527094, 46.59428571428572, '0.198\\n1.3%\\n[0.889, 0.111]'),\n",
       " Text(263.8817733990148, 88.01142857142858, '0.346\\n1.3%\\n[0.778, 0.222]'),\n",
       " Text(267.1802955665025, 98.36571428571429, '0.48\\n0.7%\\n[0.4, 0.6]'),\n",
       " Text(270.4788177339901, 108.72, '0.0\\n1.4%\\n[1.0, 0.0]'),\n",
       " Text(273.77733990147783, 119.07428571428571, '0.48\\n0.7%\\n[0.4, 0.6]'),\n",
       " Text(283.6729064039409, 129.42857142857144, 'X[2] <= 0.075\\n0.191\\n11.8%\\n[0.893, 0.107]'),\n",
       " Text(280.3743842364532, 119.07428571428571, 'X[2] <= 0.015\\n0.193\\n11.7%\\n[0.892, 0.108]'),\n",
       " Text(277.07586206896553, 108.72, '0.188\\n10.7%\\n[0.895, 0.105]'),\n",
       " Text(283.6729064039409, 108.72, '0.245\\n1.0%\\n[0.857, 0.143]'),\n",
       " Text(286.9714285714286, 119.07428571428571, '0.0\\n0.1%\\n[1.0, 0.0]'),\n",
       " Text(283.6729064039409, 139.78285714285715, '0.444\\n0.4%\\n[0.667, 0.333]'),\n",
       " Text(290.26995073891624, 160.49142857142857, 'X[0] <= 1.5\\n0.5\\n1.4%\\n[0.5, 0.5]'),\n",
       " Text(286.9714285714286, 150.13714285714286, '0.0\\n0.1%\\n[1.0, 0.0]'),\n",
       " Text(293.56847290640394, 150.13714285714286, '0.494\\n1.3%\\n[0.444, 0.556]'),\n",
       " Text(321.60591133004925, 170.84571428571428, 'X[2] <= 2.351\\n0.112\\n11.8%\\n[0.94, 0.06]'),\n",
       " Text(315.0088669950739, 160.49142857142857, 'X[2] <= 1.213\\n0.096\\n11.1%\\n[0.949, 0.051]'),\n",
       " Text(311.7103448275862, 150.13714285714286, 'X[2] <= 1.153\\n0.133\\n7.9%\\n[0.929, 0.071]'),\n",
       " Text(308.41182266009855, 139.78285714285715, 'X[0] <= 1.5\\n0.107\\n7.4%\\n[0.943, 0.057]'),\n",
       " Text(300.1655172413793, 129.42857142857144, 'X[2] <= 0.943\\n0.188\\n2.7%\\n[0.895, 0.105]'),\n",
       " Text(293.56847290640394, 119.07428571428571, 'X[2] <= 0.464\\n0.124\\n2.1%\\n[0.933, 0.067]'),\n",
       " Text(290.26995073891624, 108.72, 'X[2] <= 0.374\\n0.219\\n1.1%\\n[0.875, 0.125]'),\n",
       " Text(286.9714285714286, 98.36571428571429, '0.0\\n0.3%\\n[1.0, 0.0]'),\n",
       " Text(293.56847290640394, 98.36571428571429, '0.278\\n0.8%\\n[0.833, 0.167]'),\n",
       " Text(296.86699507389164, 108.72, '0.0\\n1.0%\\n[1.0, 0.0]'),\n",
       " Text(306.7625615763547, 119.07428571428571, 'X[2] <= 1.093\\n0.375\\n0.6%\\n[0.75, 0.25]'),\n",
       " Text(303.464039408867, 108.72, '0.444\\n0.4%\\n[0.667, 0.333]'),\n",
       " Text(310.06108374384235, 108.72, '0.0\\n0.1%\\n[1.0, 0.0]'),\n",
       " Text(316.65812807881775, 129.42857142857144, 'X[2] <= 0.794\\n0.057\\n4.8%\\n[0.971, 0.029]'),\n",
       " Text(313.35960591133005, 119.07428571428571, '0.0\\n2.8%\\n[1.0, 0.0]'),\n",
       " Text(319.9566502463054, 119.07428571428571, 'X[2] <= 0.854\\n0.133\\n2.0%\\n[0.929, 0.071]'),\n",
       " Text(316.65812807881775, 108.72, '0.444\\n0.4%\\n[0.667, 0.333]'),\n",
       " Text(323.2551724137931, 108.72, '0.0\\n1.5%\\n[1.0, 0.0]'),\n",
       " Text(315.0088669950739, 139.78285714285715, '0.444\\n0.4%\\n[0.667, 0.333]'),\n",
       " Text(318.3073891625616, 150.13714285714286, '0.0\\n3.2%\\n[1.0, 0.0]'),\n",
       " Text(328.20295566502466, 160.49142857142857, 'X[2] <= 2.47\\n0.32\\n0.7%\\n[0.8, 0.2]'),\n",
       " Text(324.90443349753696, 150.13714285714286, '0.0\\n0.1%\\n[0.0, 1.0]'),\n",
       " Text(331.5014778325123, 150.13714285714286, '0.0\\n0.6%\\n[1.0, 0.0]')]"
      ]
     },
     "execution_count": 29,
     "metadata": {},
     "output_type": "execute_result"
    },
    {
     "data": {
      "image/png": "[encoded data removed]",
      "text/plain": [
       "<Figure size 432x288 with 1 Axes>"
      ]
     },
     "metadata": {
      "needs_background": "light"
     },
     "output_type": "display_data"
    }
   ],
   "source": [
    "dct_model= tree.DecisionTreeClassifier()\n",
    "dct_model.fit(x_train, y_train)\n",
    "\n",
    "tree.plot_tree(dct_model, label='root', proportion=True)"
   ]
  },
  {
   "cell_type": "code",
   "execution_count": 30,
   "id": "574d81ef",
   "metadata": {},
   "outputs": [
    {
     "data": {
      "text/plain": [
       "0.8156424581005587"
      ]
     },
     "execution_count": 30,
     "metadata": {},
     "output_type": "execute_result"
    }
   ],
   "source": [
    "pred_x= dct_model.predict(x_test)\n",
    "\n",
    "accuraccy= (pred_x==y_test).sum()/len(y_test)\n",
    "accuraccy"
   ]
  },
  {
   "cell_type": "code",
   "execution_count": 32,
   "id": "aad71574",
   "metadata": {},
   "outputs": [
    {
     "name": "stdout",
     "output_type": "stream",
     "text": [
      "Confusion matrix:\n",
      " [[103  13]\n",
      " [ 20  43]]\n"
     ]
    },
    {
     "name": "stderr",
     "output_type": "stream",
     "text": [
      "c:\\users\\lenovo\\pycharmprojects\\data science\\venv\\lib\\site-packages\\ipykernel_launcher.py:10: UserWarning: FixedFormatter should only be used together with FixedLocator\n",
      "  # Remove the CWD from sys.path while we load stuff.\n",
      "c:\\users\\lenovo\\pycharmprojects\\data science\\venv\\lib\\site-packages\\ipykernel_launcher.py:11: UserWarning: FixedFormatter should only be used together with FixedLocator\n",
      "  # This is added back by InteractiveShellApp.init_path()\n"
     ]
    },
    {
     "data": {
      "image/png": "[encoded data removed]",
      "text/plain": [
       "<Figure size 432x288 with 2 Axes>"
      ]
     },
     "metadata": {
      "needs_background": "light"
     },
     "output_type": "display_data"
    }
   ],
   "source": [
    "conf_mat = confusion_matrix(y_true=y_test, y_pred=pred_x)\n",
    "print('Confusion matrix:\\n', conf_mat)\n",
    "\n",
    "\n",
    "labels = ['Survived', 'Not Survived']\n",
    "fig = plt.figure()\n",
    "ax = fig.add_subplot(111)\n",
    "cax = ax.matshow(conf_mat, cmap=plt.cm.Reds)\n",
    "fig.colorbar(cax)\n",
    "ax.set_xticklabels([''] + labels)\n",
    "ax.set_yticklabels([''] + labels)\n",
    "plt.xlabel('Predicted')\n",
    "plt.ylabel('Expected')\n",
    "plt.show()"
   ]
  }
 ],
 "metadata": {
  "kernelspec": {
   "display_name": "Python 3 (ipykernel)",
   "language": "python",
   "name": "python3"
  },
  "language_info": {
   "codemirror_mode": {
    "name": "ipython",
    "version": 3
   },
   "file_extension": ".py",
   "mimetype": "text/x-python",
   "name": "python",
   "nbconvert_exporter": "python",
   "pygments_lexer": "ipython3",
   "version": "3.7.7"
  }
 },
 "nbformat": 4,
 "nbformat_minor": 5
}
